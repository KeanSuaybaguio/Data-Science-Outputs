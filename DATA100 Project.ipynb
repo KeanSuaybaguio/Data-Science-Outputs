{
 "cells": [
  {
   "cell_type": "markdown",
   "id": "8918528a",
   "metadata": {},
   "source": [
    "# Final Project - Analyzing Starbucks Reviews "
   ]
  },
  {
   "cell_type": "code",
   "execution_count": 26,
   "id": "87bf48a3",
   "metadata": {},
   "outputs": [],
   "source": [
    "import numpy as np \n",
    "import pandas as pd\n",
    "import matplotlib.pyplot as plt"
   ]
  },
  {
   "cell_type": "code",
   "execution_count": 41,
   "id": "1f0cef69",
   "metadata": {},
   "outputs": [],
   "source": [
    "starbucks = pd.read_csv('./[FINAL - Starbucks] reviews_data.csv')"
   ]
  },
  {
   "cell_type": "code",
   "execution_count": 42,
   "id": "dd7da7e7",
   "metadata": {},
   "outputs": [
    {
     "data": {
      "text/html": [
       "<div>\n",
       "<style scoped>\n",
       "    .dataframe tbody tr th:only-of-type {\n",
       "        vertical-align: middle;\n",
       "    }\n",
       "\n",
       "    .dataframe tbody tr th {\n",
       "        vertical-align: top;\n",
       "    }\n",
       "\n",
       "    .dataframe thead th {\n",
       "        text-align: right;\n",
       "    }\n",
       "</style>\n",
       "<table border=\"1\" class=\"dataframe\">\n",
       "  <thead>\n",
       "    <tr style=\"text-align: right;\">\n",
       "      <th></th>\n",
       "      <th>name</th>\n",
       "      <th>location</th>\n",
       "      <th>Date</th>\n",
       "      <th>Rating</th>\n",
       "      <th>Review</th>\n",
       "      <th>Image_Links</th>\n",
       "    </tr>\n",
       "  </thead>\n",
       "  <tbody>\n",
       "    <tr>\n",
       "      <th>0</th>\n",
       "      <td>Helen</td>\n",
       "      <td>Wichita Falls, TX</td>\n",
       "      <td>Reviewed Sept. 13, 2023</td>\n",
       "      <td>5.0</td>\n",
       "      <td>Amber and LaDonna at the Starbucks on Southwes...</td>\n",
       "      <td>['No Images']</td>\n",
       "    </tr>\n",
       "    <tr>\n",
       "      <th>1</th>\n",
       "      <td>Courtney</td>\n",
       "      <td>Apopka, FL</td>\n",
       "      <td>Reviewed July 16, 2023</td>\n",
       "      <td>5.0</td>\n",
       "      <td>** at the Starbucks by the fire station on 436...</td>\n",
       "      <td>['No Images']</td>\n",
       "    </tr>\n",
       "    <tr>\n",
       "      <th>2</th>\n",
       "      <td>Daynelle</td>\n",
       "      <td>Cranberry Twp, PA</td>\n",
       "      <td>Reviewed July 5, 2023</td>\n",
       "      <td>5.0</td>\n",
       "      <td>I just wanted to go out of my way to recognize...</td>\n",
       "      <td>['https://media.consumeraffairs.com/files/cach...</td>\n",
       "    </tr>\n",
       "    <tr>\n",
       "      <th>3</th>\n",
       "      <td>Taylor</td>\n",
       "      <td>Seattle, WA</td>\n",
       "      <td>Reviewed May 26, 2023</td>\n",
       "      <td>5.0</td>\n",
       "      <td>Me and my friend were at Starbucks and my card...</td>\n",
       "      <td>['No Images']</td>\n",
       "    </tr>\n",
       "    <tr>\n",
       "      <th>4</th>\n",
       "      <td>Tenessa</td>\n",
       "      <td>Gresham, OR</td>\n",
       "      <td>Reviewed Jan. 22, 2023</td>\n",
       "      <td>5.0</td>\n",
       "      <td>I’m on this kick of drinking 5 cups of warm wa...</td>\n",
       "      <td>['https://media.consumeraffairs.com/files/cach...</td>\n",
       "    </tr>\n",
       "    <tr>\n",
       "      <th>...</th>\n",
       "      <td>...</td>\n",
       "      <td>...</td>\n",
       "      <td>...</td>\n",
       "      <td>...</td>\n",
       "      <td>...</td>\n",
       "      <td>...</td>\n",
       "    </tr>\n",
       "    <tr>\n",
       "      <th>845</th>\n",
       "      <td>Becky</td>\n",
       "      <td>Agoura Hills, CA</td>\n",
       "      <td>Reviewed July 13, 2006</td>\n",
       "      <td>NaN</td>\n",
       "      <td>I ordered two venti frappacino's without whipp...</td>\n",
       "      <td>['No Images']</td>\n",
       "    </tr>\n",
       "    <tr>\n",
       "      <th>846</th>\n",
       "      <td>Bob</td>\n",
       "      <td>Goodrich, MI</td>\n",
       "      <td>Reviewed Jan. 3, 2005</td>\n",
       "      <td>NaN</td>\n",
       "      <td>No Review Text</td>\n",
       "      <td>['No Images']</td>\n",
       "    </tr>\n",
       "    <tr>\n",
       "      <th>847</th>\n",
       "      <td>Erik</td>\n",
       "      <td>Valley Village, CA</td>\n",
       "      <td>Reviewed Nov. 5, 2004</td>\n",
       "      <td>NaN</td>\n",
       "      <td>DEMANDED TIPS FROM ME, THEN MADE ME WAIT UNTIL...</td>\n",
       "      <td>['No Images']</td>\n",
       "    </tr>\n",
       "    <tr>\n",
       "      <th>848</th>\n",
       "      <td>Andrew</td>\n",
       "      <td>Fallbrook, CA</td>\n",
       "      <td>Reviewed Oct. 20, 2004</td>\n",
       "      <td>NaN</td>\n",
       "      <td>No Review Text</td>\n",
       "      <td>['No Images']</td>\n",
       "    </tr>\n",
       "    <tr>\n",
       "      <th>849</th>\n",
       "      <td>Christian</td>\n",
       "      <td>Ramsey, NJ</td>\n",
       "      <td>Reviewed July 19, 2000</td>\n",
       "      <td>NaN</td>\n",
       "      <td>No Review Text</td>\n",
       "      <td>['No Images']</td>\n",
       "    </tr>\n",
       "  </tbody>\n",
       "</table>\n",
       "<p>850 rows × 6 columns</p>\n",
       "</div>"
      ],
      "text/plain": [
       "          name            location                     Date  Rating  \\\n",
       "0        Helen   Wichita Falls, TX  Reviewed Sept. 13, 2023     5.0   \n",
       "1     Courtney          Apopka, FL   Reviewed July 16, 2023     5.0   \n",
       "2     Daynelle   Cranberry Twp, PA    Reviewed July 5, 2023     5.0   \n",
       "3       Taylor         Seattle, WA    Reviewed May 26, 2023     5.0   \n",
       "4      Tenessa         Gresham, OR   Reviewed Jan. 22, 2023     5.0   \n",
       "..         ...                 ...                      ...     ...   \n",
       "845      Becky    Agoura Hills, CA   Reviewed July 13, 2006     NaN   \n",
       "846        Bob        Goodrich, MI    Reviewed Jan. 3, 2005     NaN   \n",
       "847       Erik  Valley Village, CA    Reviewed Nov. 5, 2004     NaN   \n",
       "848     Andrew       Fallbrook, CA   Reviewed Oct. 20, 2004     NaN   \n",
       "849  Christian          Ramsey, NJ   Reviewed July 19, 2000     NaN   \n",
       "\n",
       "                                                Review  \\\n",
       "0    Amber and LaDonna at the Starbucks on Southwes...   \n",
       "1    ** at the Starbucks by the fire station on 436...   \n",
       "2    I just wanted to go out of my way to recognize...   \n",
       "3    Me and my friend were at Starbucks and my card...   \n",
       "4    I’m on this kick of drinking 5 cups of warm wa...   \n",
       "..                                                 ...   \n",
       "845  I ordered two venti frappacino's without whipp...   \n",
       "846                                     No Review Text   \n",
       "847  DEMANDED TIPS FROM ME, THEN MADE ME WAIT UNTIL...   \n",
       "848                                     No Review Text   \n",
       "849                                     No Review Text   \n",
       "\n",
       "                                           Image_Links  \n",
       "0                                        ['No Images']  \n",
       "1                                        ['No Images']  \n",
       "2    ['https://media.consumeraffairs.com/files/cach...  \n",
       "3                                        ['No Images']  \n",
       "4    ['https://media.consumeraffairs.com/files/cach...  \n",
       "..                                                 ...  \n",
       "845                                      ['No Images']  \n",
       "846                                      ['No Images']  \n",
       "847                                      ['No Images']  \n",
       "848                                      ['No Images']  \n",
       "849                                      ['No Images']  \n",
       "\n",
       "[850 rows x 6 columns]"
      ]
     },
     "execution_count": 42,
     "metadata": {},
     "output_type": "execute_result"
    }
   ],
   "source": [
    "starbucks"
   ]
  },
  {
   "cell_type": "markdown",
   "id": "fdcf0e0f",
   "metadata": {},
   "source": [
    "# Data Clean Up"
   ]
  },
  {
   "cell_type": "code",
   "execution_count": 43,
   "id": "4fe877a5",
   "metadata": {},
   "outputs": [
    {
     "data": {
      "text/plain": [
       "name             0\n",
       "location         0\n",
       "Date             0\n",
       "Rating         145\n",
       "Review           0\n",
       "Image_Links      0\n",
       "dtype: int64"
      ]
     },
     "execution_count": 43,
     "metadata": {},
     "output_type": "execute_result"
    }
   ],
   "source": [
    "starbucks.isna().sum()"
   ]
  },
  {
   "cell_type": "code",
   "execution_count": 44,
   "id": "3885245d",
   "metadata": {},
   "outputs": [],
   "source": [
    "starbucks = starbucks[~starbucks['Rating'].isna()]"
   ]
  },
  {
   "cell_type": "code",
   "execution_count": 45,
   "id": "30377502",
   "metadata": {},
   "outputs": [
    {
     "data": {
      "text/plain": [
       "name           0\n",
       "location       0\n",
       "Date           0\n",
       "Rating         0\n",
       "Review         0\n",
       "Image_Links    0\n",
       "dtype: int64"
      ]
     },
     "execution_count": 45,
     "metadata": {},
     "output_type": "execute_result"
    }
   ],
   "source": [
    "starbucks.isna().sum()"
   ]
  },
  {
   "cell_type": "markdown",
   "id": "366f5865",
   "metadata": {},
   "source": [
    "# Data Manipulation "
   ]
  },
  {
   "cell_type": "markdown",
   "id": "7065d61f",
   "metadata": {},
   "source": [
    "Data Manipulation: Addition of State Column "
   ]
  },
  {
   "cell_type": "code",
   "execution_count": 46,
   "id": "dd44311d",
   "metadata": {},
   "outputs": [
    {
     "data": {
      "text/html": [
       "<div>\n",
       "<style scoped>\n",
       "    .dataframe tbody tr th:only-of-type {\n",
       "        vertical-align: middle;\n",
       "    }\n",
       "\n",
       "    .dataframe tbody tr th {\n",
       "        vertical-align: top;\n",
       "    }\n",
       "\n",
       "    .dataframe thead th {\n",
       "        text-align: right;\n",
       "    }\n",
       "</style>\n",
       "<table border=\"1\" class=\"dataframe\">\n",
       "  <thead>\n",
       "    <tr style=\"text-align: right;\">\n",
       "      <th></th>\n",
       "      <th>name</th>\n",
       "      <th>location</th>\n",
       "      <th>Date</th>\n",
       "      <th>Rating</th>\n",
       "      <th>Review</th>\n",
       "    </tr>\n",
       "  </thead>\n",
       "  <tbody>\n",
       "    <tr>\n",
       "      <th>0</th>\n",
       "      <td>Helen</td>\n",
       "      <td>Wichita Falls, TX</td>\n",
       "      <td>Reviewed Sept. 13, 2023</td>\n",
       "      <td>5.0</td>\n",
       "      <td>Amber and LaDonna at the Starbucks on Southwes...</td>\n",
       "    </tr>\n",
       "    <tr>\n",
       "      <th>1</th>\n",
       "      <td>Courtney</td>\n",
       "      <td>Apopka, FL</td>\n",
       "      <td>Reviewed July 16, 2023</td>\n",
       "      <td>5.0</td>\n",
       "      <td>** at the Starbucks by the fire station on 436...</td>\n",
       "    </tr>\n",
       "    <tr>\n",
       "      <th>2</th>\n",
       "      <td>Daynelle</td>\n",
       "      <td>Cranberry Twp, PA</td>\n",
       "      <td>Reviewed July 5, 2023</td>\n",
       "      <td>5.0</td>\n",
       "      <td>I just wanted to go out of my way to recognize...</td>\n",
       "    </tr>\n",
       "    <tr>\n",
       "      <th>3</th>\n",
       "      <td>Taylor</td>\n",
       "      <td>Seattle, WA</td>\n",
       "      <td>Reviewed May 26, 2023</td>\n",
       "      <td>5.0</td>\n",
       "      <td>Me and my friend were at Starbucks and my card...</td>\n",
       "    </tr>\n",
       "    <tr>\n",
       "      <th>4</th>\n",
       "      <td>Tenessa</td>\n",
       "      <td>Gresham, OR</td>\n",
       "      <td>Reviewed Jan. 22, 2023</td>\n",
       "      <td>5.0</td>\n",
       "      <td>I’m on this kick of drinking 5 cups of warm wa...</td>\n",
       "    </tr>\n",
       "    <tr>\n",
       "      <th>...</th>\n",
       "      <td>...</td>\n",
       "      <td>...</td>\n",
       "      <td>...</td>\n",
       "      <td>...</td>\n",
       "      <td>...</td>\n",
       "    </tr>\n",
       "    <tr>\n",
       "      <th>700</th>\n",
       "      <td>Margaret</td>\n",
       "      <td>Cotati, CA</td>\n",
       "      <td>Reviewed Oct. 2, 2011</td>\n",
       "      <td>1.0</td>\n",
       "      <td>I ordered Via Starbucks coffee online. I recei...</td>\n",
       "    </tr>\n",
       "    <tr>\n",
       "      <th>701</th>\n",
       "      <td>Ric</td>\n",
       "      <td>Oakville, ON</td>\n",
       "      <td>Reviewed Aug. 31, 2011</td>\n",
       "      <td>3.0</td>\n",
       "      <td>My name is Ric **, I am journalist by professi...</td>\n",
       "    </tr>\n",
       "    <tr>\n",
       "      <th>702</th>\n",
       "      <td>Jayne</td>\n",
       "      <td>Ny, NY</td>\n",
       "      <td>Reviewed Aug. 24, 2011</td>\n",
       "      <td>1.0</td>\n",
       "      <td>The bagel was ice cold, not cut and not toasted.</td>\n",
       "    </tr>\n",
       "    <tr>\n",
       "      <th>703</th>\n",
       "      <td>Norma</td>\n",
       "      <td>La Puente, CA</td>\n",
       "      <td>Reviewed Aug. 15, 2011</td>\n",
       "      <td>1.0</td>\n",
       "      <td>In the morning of Monday, August 15, 2011, at ...</td>\n",
       "    </tr>\n",
       "    <tr>\n",
       "      <th>749</th>\n",
       "      <td>Kenneth</td>\n",
       "      <td>Beecher, IL</td>\n",
       "      <td>Reviewed Feb. 6, 2010</td>\n",
       "      <td>5.0</td>\n",
       "      <td>I found the coffee at Starbucks overrated and ...</td>\n",
       "    </tr>\n",
       "  </tbody>\n",
       "</table>\n",
       "<p>705 rows × 5 columns</p>\n",
       "</div>"
      ],
      "text/plain": [
       "         name           location                     Date  Rating  \\\n",
       "0       Helen  Wichita Falls, TX  Reviewed Sept. 13, 2023     5.0   \n",
       "1    Courtney         Apopka, FL   Reviewed July 16, 2023     5.0   \n",
       "2    Daynelle  Cranberry Twp, PA    Reviewed July 5, 2023     5.0   \n",
       "3      Taylor        Seattle, WA    Reviewed May 26, 2023     5.0   \n",
       "4     Tenessa        Gresham, OR   Reviewed Jan. 22, 2023     5.0   \n",
       "..        ...                ...                      ...     ...   \n",
       "700  Margaret         Cotati, CA    Reviewed Oct. 2, 2011     1.0   \n",
       "701       Ric       Oakville, ON   Reviewed Aug. 31, 2011     3.0   \n",
       "702     Jayne             Ny, NY   Reviewed Aug. 24, 2011     1.0   \n",
       "703     Norma      La Puente, CA   Reviewed Aug. 15, 2011     1.0   \n",
       "749   Kenneth        Beecher, IL    Reviewed Feb. 6, 2010     5.0   \n",
       "\n",
       "                                                Review  \n",
       "0    Amber and LaDonna at the Starbucks on Southwes...  \n",
       "1    ** at the Starbucks by the fire station on 436...  \n",
       "2    I just wanted to go out of my way to recognize...  \n",
       "3    Me and my friend were at Starbucks and my card...  \n",
       "4    I’m on this kick of drinking 5 cups of warm wa...  \n",
       "..                                                 ...  \n",
       "700  I ordered Via Starbucks coffee online. I recei...  \n",
       "701  My name is Ric **, I am journalist by professi...  \n",
       "702   The bagel was ice cold, not cut and not toasted.  \n",
       "703  In the morning of Monday, August 15, 2011, at ...  \n",
       "749  I found the coffee at Starbucks overrated and ...  \n",
       "\n",
       "[705 rows x 5 columns]"
      ]
     },
     "execution_count": 46,
     "metadata": {},
     "output_type": "execute_result"
    }
   ],
   "source": [
    "starbucks.drop(columns=['Image_Links'])"
   ]
  },
  {
   "cell_type": "code",
   "execution_count": 47,
   "id": "c49b963d",
   "metadata": {},
   "outputs": [
    {
     "name": "stderr",
     "output_type": "stream",
     "text": [
      "C:\\Users\\kathl\\AppData\\Local\\Temp\\ipykernel_21556\\2304642203.py:2: SettingWithCopyWarning: \n",
      "A value is trying to be set on a copy of a slice from a DataFrame.\n",
      "Try using .loc[row_indexer,col_indexer] = value instead\n",
      "\n",
      "See the caveats in the documentation: https://pandas.pydata.org/pandas-docs/stable/user_guide/indexing.html#returning-a-view-versus-a-copy\n",
      "  starbucks['State'] = starbucks[\"location\"].str.split().str[-1]\n"
     ]
    }
   ],
   "source": [
    "#To get the state \n",
    "starbucks['State'] = starbucks[\"location\"].str.split().str[-1]"
   ]
  },
  {
   "cell_type": "code",
   "execution_count": 48,
   "id": "beaee911",
   "metadata": {},
   "outputs": [
    {
     "data": {
      "text/html": [
       "<div>\n",
       "<style scoped>\n",
       "    .dataframe tbody tr th:only-of-type {\n",
       "        vertical-align: middle;\n",
       "    }\n",
       "\n",
       "    .dataframe tbody tr th {\n",
       "        vertical-align: top;\n",
       "    }\n",
       "\n",
       "    .dataframe thead th {\n",
       "        text-align: right;\n",
       "    }\n",
       "</style>\n",
       "<table border=\"1\" class=\"dataframe\">\n",
       "  <thead>\n",
       "    <tr style=\"text-align: right;\">\n",
       "      <th></th>\n",
       "      <th>name</th>\n",
       "      <th>location</th>\n",
       "      <th>Date</th>\n",
       "      <th>Rating</th>\n",
       "      <th>Review</th>\n",
       "      <th>Image_Links</th>\n",
       "      <th>State</th>\n",
       "    </tr>\n",
       "  </thead>\n",
       "  <tbody>\n",
       "    <tr>\n",
       "      <th>0</th>\n",
       "      <td>Helen</td>\n",
       "      <td>Wichita Falls, TX</td>\n",
       "      <td>Reviewed Sept. 13, 2023</td>\n",
       "      <td>5.0</td>\n",
       "      <td>Amber and LaDonna at the Starbucks on Southwes...</td>\n",
       "      <td>['No Images']</td>\n",
       "      <td>TX</td>\n",
       "    </tr>\n",
       "    <tr>\n",
       "      <th>1</th>\n",
       "      <td>Courtney</td>\n",
       "      <td>Apopka, FL</td>\n",
       "      <td>Reviewed July 16, 2023</td>\n",
       "      <td>5.0</td>\n",
       "      <td>** at the Starbucks by the fire station on 436...</td>\n",
       "      <td>['No Images']</td>\n",
       "      <td>FL</td>\n",
       "    </tr>\n",
       "    <tr>\n",
       "      <th>2</th>\n",
       "      <td>Daynelle</td>\n",
       "      <td>Cranberry Twp, PA</td>\n",
       "      <td>Reviewed July 5, 2023</td>\n",
       "      <td>5.0</td>\n",
       "      <td>I just wanted to go out of my way to recognize...</td>\n",
       "      <td>['https://media.consumeraffairs.com/files/cach...</td>\n",
       "      <td>PA</td>\n",
       "    </tr>\n",
       "    <tr>\n",
       "      <th>3</th>\n",
       "      <td>Taylor</td>\n",
       "      <td>Seattle, WA</td>\n",
       "      <td>Reviewed May 26, 2023</td>\n",
       "      <td>5.0</td>\n",
       "      <td>Me and my friend were at Starbucks and my card...</td>\n",
       "      <td>['No Images']</td>\n",
       "      <td>WA</td>\n",
       "    </tr>\n",
       "    <tr>\n",
       "      <th>4</th>\n",
       "      <td>Tenessa</td>\n",
       "      <td>Gresham, OR</td>\n",
       "      <td>Reviewed Jan. 22, 2023</td>\n",
       "      <td>5.0</td>\n",
       "      <td>I’m on this kick of drinking 5 cups of warm wa...</td>\n",
       "      <td>['https://media.consumeraffairs.com/files/cach...</td>\n",
       "      <td>OR</td>\n",
       "    </tr>\n",
       "    <tr>\n",
       "      <th>...</th>\n",
       "      <td>...</td>\n",
       "      <td>...</td>\n",
       "      <td>...</td>\n",
       "      <td>...</td>\n",
       "      <td>...</td>\n",
       "      <td>...</td>\n",
       "      <td>...</td>\n",
       "    </tr>\n",
       "    <tr>\n",
       "      <th>700</th>\n",
       "      <td>Margaret</td>\n",
       "      <td>Cotati, CA</td>\n",
       "      <td>Reviewed Oct. 2, 2011</td>\n",
       "      <td>1.0</td>\n",
       "      <td>I ordered Via Starbucks coffee online. I recei...</td>\n",
       "      <td>['No Images']</td>\n",
       "      <td>CA</td>\n",
       "    </tr>\n",
       "    <tr>\n",
       "      <th>701</th>\n",
       "      <td>Ric</td>\n",
       "      <td>Oakville, ON</td>\n",
       "      <td>Reviewed Aug. 31, 2011</td>\n",
       "      <td>3.0</td>\n",
       "      <td>My name is Ric **, I am journalist by professi...</td>\n",
       "      <td>['No Images']</td>\n",
       "      <td>ON</td>\n",
       "    </tr>\n",
       "    <tr>\n",
       "      <th>702</th>\n",
       "      <td>Jayne</td>\n",
       "      <td>Ny, NY</td>\n",
       "      <td>Reviewed Aug. 24, 2011</td>\n",
       "      <td>1.0</td>\n",
       "      <td>The bagel was ice cold, not cut and not toasted.</td>\n",
       "      <td>['No Images']</td>\n",
       "      <td>NY</td>\n",
       "    </tr>\n",
       "    <tr>\n",
       "      <th>703</th>\n",
       "      <td>Norma</td>\n",
       "      <td>La Puente, CA</td>\n",
       "      <td>Reviewed Aug. 15, 2011</td>\n",
       "      <td>1.0</td>\n",
       "      <td>In the morning of Monday, August 15, 2011, at ...</td>\n",
       "      <td>['No Images']</td>\n",
       "      <td>CA</td>\n",
       "    </tr>\n",
       "    <tr>\n",
       "      <th>749</th>\n",
       "      <td>Kenneth</td>\n",
       "      <td>Beecher, IL</td>\n",
       "      <td>Reviewed Feb. 6, 2010</td>\n",
       "      <td>5.0</td>\n",
       "      <td>I found the coffee at Starbucks overrated and ...</td>\n",
       "      <td>['No Images']</td>\n",
       "      <td>IL</td>\n",
       "    </tr>\n",
       "  </tbody>\n",
       "</table>\n",
       "<p>705 rows × 7 columns</p>\n",
       "</div>"
      ],
      "text/plain": [
       "         name           location                     Date  Rating  \\\n",
       "0       Helen  Wichita Falls, TX  Reviewed Sept. 13, 2023     5.0   \n",
       "1    Courtney         Apopka, FL   Reviewed July 16, 2023     5.0   \n",
       "2    Daynelle  Cranberry Twp, PA    Reviewed July 5, 2023     5.0   \n",
       "3      Taylor        Seattle, WA    Reviewed May 26, 2023     5.0   \n",
       "4     Tenessa        Gresham, OR   Reviewed Jan. 22, 2023     5.0   \n",
       "..        ...                ...                      ...     ...   \n",
       "700  Margaret         Cotati, CA    Reviewed Oct. 2, 2011     1.0   \n",
       "701       Ric       Oakville, ON   Reviewed Aug. 31, 2011     3.0   \n",
       "702     Jayne             Ny, NY   Reviewed Aug. 24, 2011     1.0   \n",
       "703     Norma      La Puente, CA   Reviewed Aug. 15, 2011     1.0   \n",
       "749   Kenneth        Beecher, IL    Reviewed Feb. 6, 2010     5.0   \n",
       "\n",
       "                                                Review  \\\n",
       "0    Amber and LaDonna at the Starbucks on Southwes...   \n",
       "1    ** at the Starbucks by the fire station on 436...   \n",
       "2    I just wanted to go out of my way to recognize...   \n",
       "3    Me and my friend were at Starbucks and my card...   \n",
       "4    I’m on this kick of drinking 5 cups of warm wa...   \n",
       "..                                                 ...   \n",
       "700  I ordered Via Starbucks coffee online. I recei...   \n",
       "701  My name is Ric **, I am journalist by professi...   \n",
       "702   The bagel was ice cold, not cut and not toasted.   \n",
       "703  In the morning of Monday, August 15, 2011, at ...   \n",
       "749  I found the coffee at Starbucks overrated and ...   \n",
       "\n",
       "                                           Image_Links State  \n",
       "0                                        ['No Images']    TX  \n",
       "1                                        ['No Images']    FL  \n",
       "2    ['https://media.consumeraffairs.com/files/cach...    PA  \n",
       "3                                        ['No Images']    WA  \n",
       "4    ['https://media.consumeraffairs.com/files/cach...    OR  \n",
       "..                                                 ...   ...  \n",
       "700                                      ['No Images']    CA  \n",
       "701                                      ['No Images']    ON  \n",
       "702                                      ['No Images']    NY  \n",
       "703                                      ['No Images']    CA  \n",
       "749                                      ['No Images']    IL  \n",
       "\n",
       "[705 rows x 7 columns]"
      ]
     },
     "execution_count": 48,
     "metadata": {},
     "output_type": "execute_result"
    }
   ],
   "source": [
    "starbucks"
   ]
  },
  {
   "cell_type": "code",
   "execution_count": 49,
   "id": "fa3240b6",
   "metadata": {},
   "outputs": [
    {
     "data": {
      "text/plain": [
       "array(['TX', 'FL', 'PA', 'WA', 'OR', 'NC', 'MD', 'Other', 'CA', 'OH',\n",
       "       'HI', 'NJ', 'GA', 'DC', 'AZ', 'MA', 'VA', 'NV', 'TN', 'IA', 'WI',\n",
       "       'NH', 'AR', 'MN', 'IN', 'MO', 'IL', 'MI', 'MS', 'CO', 'OK', 'UT',\n",
       "       'KY', 'ME', 'KS', 'ON', 'BC', 'NY', 'NE', 'AK', 'AB', 'ID',\n",
       "       'OTHER', 'Canada', 'LA', 'UK', 'Kingdom', 'SC', 'MB', 'SK',\n",
       "       'California', 'Wyoming', 'Virginia', 'Saskatchewan', 'Carolina',\n",
       "       'NL', 'NM', 'Minnesota', 'Florida', 'Alberta', 'Ala', 'WV', 'Wi.',\n",
       "       'Maine', 'York', 'NS', 'ND', 'Colorado', 'RI', 'Michigan', 'WY',\n",
       "       'AL', 'QC', 'MT', 'CT', 'ca', 'tx', 'fl', 'ma', 'NEEDED', 'oh'],\n",
       "      dtype=object)"
      ]
     },
     "execution_count": 49,
     "metadata": {},
     "output_type": "execute_result"
    }
   ],
   "source": [
    "#Checking of unique values for state \n",
    "starbucks['State'].unique()"
   ]
  },
  {
   "cell_type": "code",
   "execution_count": 60,
   "id": "88dc29fd",
   "metadata": {},
   "outputs": [
    {
     "ename": "KeyError",
     "evalue": "\"['Image_Links'] not found in axis\"",
     "output_type": "error",
     "traceback": [
      "\u001b[1;31m---------------------------------------------------------------------------\u001b[0m",
      "\u001b[1;31mKeyError\u001b[0m                                  Traceback (most recent call last)",
      "Cell \u001b[1;32mIn[60], line 2\u001b[0m\n\u001b[0;32m      1\u001b[0m \u001b[38;5;66;03m#Dropping the Image Column \u001b[39;00m\n\u001b[1;32m----> 2\u001b[0m starbucks \u001b[38;5;241m=\u001b[39m starbucks\u001b[38;5;241m.\u001b[39mdrop([\u001b[38;5;124m'\u001b[39m\u001b[38;5;124mImage_Links\u001b[39m\u001b[38;5;124m'\u001b[39m], axis\u001b[38;5;241m=\u001b[39m\u001b[38;5;241m1\u001b[39m)\n",
      "File \u001b[1;32m~\\anaconda3\\Lib\\site-packages\\pandas\\util\\_decorators.py:331\u001b[0m, in \u001b[0;36mdeprecate_nonkeyword_arguments.<locals>.decorate.<locals>.wrapper\u001b[1;34m(*args, **kwargs)\u001b[0m\n\u001b[0;32m    325\u001b[0m \u001b[38;5;28;01mif\u001b[39;00m \u001b[38;5;28mlen\u001b[39m(args) \u001b[38;5;241m>\u001b[39m num_allow_args:\n\u001b[0;32m    326\u001b[0m     warnings\u001b[38;5;241m.\u001b[39mwarn(\n\u001b[0;32m    327\u001b[0m         msg\u001b[38;5;241m.\u001b[39mformat(arguments\u001b[38;5;241m=\u001b[39m_format_argument_list(allow_args)),\n\u001b[0;32m    328\u001b[0m         \u001b[38;5;167;01mFutureWarning\u001b[39;00m,\n\u001b[0;32m    329\u001b[0m         stacklevel\u001b[38;5;241m=\u001b[39mfind_stack_level(),\n\u001b[0;32m    330\u001b[0m     )\n\u001b[1;32m--> 331\u001b[0m \u001b[38;5;28;01mreturn\u001b[39;00m func(\u001b[38;5;241m*\u001b[39margs, \u001b[38;5;241m*\u001b[39m\u001b[38;5;241m*\u001b[39mkwargs)\n",
      "File \u001b[1;32m~\\anaconda3\\Lib\\site-packages\\pandas\\core\\frame.py:5399\u001b[0m, in \u001b[0;36mDataFrame.drop\u001b[1;34m(self, labels, axis, index, columns, level, inplace, errors)\u001b[0m\n\u001b[0;32m   5251\u001b[0m \u001b[38;5;129m@deprecate_nonkeyword_arguments\u001b[39m(version\u001b[38;5;241m=\u001b[39m\u001b[38;5;28;01mNone\u001b[39;00m, allowed_args\u001b[38;5;241m=\u001b[39m[\u001b[38;5;124m\"\u001b[39m\u001b[38;5;124mself\u001b[39m\u001b[38;5;124m\"\u001b[39m, \u001b[38;5;124m\"\u001b[39m\u001b[38;5;124mlabels\u001b[39m\u001b[38;5;124m\"\u001b[39m])\n\u001b[0;32m   5252\u001b[0m \u001b[38;5;28;01mdef\u001b[39;00m \u001b[38;5;21mdrop\u001b[39m(  \u001b[38;5;66;03m# type: ignore[override]\u001b[39;00m\n\u001b[0;32m   5253\u001b[0m     \u001b[38;5;28mself\u001b[39m,\n\u001b[1;32m   (...)\u001b[0m\n\u001b[0;32m   5260\u001b[0m     errors: IgnoreRaise \u001b[38;5;241m=\u001b[39m \u001b[38;5;124m\"\u001b[39m\u001b[38;5;124mraise\u001b[39m\u001b[38;5;124m\"\u001b[39m,\n\u001b[0;32m   5261\u001b[0m ) \u001b[38;5;241m-\u001b[39m\u001b[38;5;241m>\u001b[39m DataFrame \u001b[38;5;241m|\u001b[39m \u001b[38;5;28;01mNone\u001b[39;00m:\n\u001b[0;32m   5262\u001b[0m \u001b[38;5;250m    \u001b[39m\u001b[38;5;124;03m\"\"\"\u001b[39;00m\n\u001b[0;32m   5263\u001b[0m \u001b[38;5;124;03m    Drop specified labels from rows or columns.\u001b[39;00m\n\u001b[0;32m   5264\u001b[0m \n\u001b[1;32m   (...)\u001b[0m\n\u001b[0;32m   5397\u001b[0m \u001b[38;5;124;03m            weight  1.0     0.8\u001b[39;00m\n\u001b[0;32m   5398\u001b[0m \u001b[38;5;124;03m    \"\"\"\u001b[39;00m\n\u001b[1;32m-> 5399\u001b[0m     \u001b[38;5;28;01mreturn\u001b[39;00m \u001b[38;5;28msuper\u001b[39m()\u001b[38;5;241m.\u001b[39mdrop(\n\u001b[0;32m   5400\u001b[0m         labels\u001b[38;5;241m=\u001b[39mlabels,\n\u001b[0;32m   5401\u001b[0m         axis\u001b[38;5;241m=\u001b[39maxis,\n\u001b[0;32m   5402\u001b[0m         index\u001b[38;5;241m=\u001b[39mindex,\n\u001b[0;32m   5403\u001b[0m         columns\u001b[38;5;241m=\u001b[39mcolumns,\n\u001b[0;32m   5404\u001b[0m         level\u001b[38;5;241m=\u001b[39mlevel,\n\u001b[0;32m   5405\u001b[0m         inplace\u001b[38;5;241m=\u001b[39minplace,\n\u001b[0;32m   5406\u001b[0m         errors\u001b[38;5;241m=\u001b[39merrors,\n\u001b[0;32m   5407\u001b[0m     )\n",
      "File \u001b[1;32m~\\anaconda3\\Lib\\site-packages\\pandas\\util\\_decorators.py:331\u001b[0m, in \u001b[0;36mdeprecate_nonkeyword_arguments.<locals>.decorate.<locals>.wrapper\u001b[1;34m(*args, **kwargs)\u001b[0m\n\u001b[0;32m    325\u001b[0m \u001b[38;5;28;01mif\u001b[39;00m \u001b[38;5;28mlen\u001b[39m(args) \u001b[38;5;241m>\u001b[39m num_allow_args:\n\u001b[0;32m    326\u001b[0m     warnings\u001b[38;5;241m.\u001b[39mwarn(\n\u001b[0;32m    327\u001b[0m         msg\u001b[38;5;241m.\u001b[39mformat(arguments\u001b[38;5;241m=\u001b[39m_format_argument_list(allow_args)),\n\u001b[0;32m    328\u001b[0m         \u001b[38;5;167;01mFutureWarning\u001b[39;00m,\n\u001b[0;32m    329\u001b[0m         stacklevel\u001b[38;5;241m=\u001b[39mfind_stack_level(),\n\u001b[0;32m    330\u001b[0m     )\n\u001b[1;32m--> 331\u001b[0m \u001b[38;5;28;01mreturn\u001b[39;00m func(\u001b[38;5;241m*\u001b[39margs, \u001b[38;5;241m*\u001b[39m\u001b[38;5;241m*\u001b[39mkwargs)\n",
      "File \u001b[1;32m~\\anaconda3\\Lib\\site-packages\\pandas\\core\\generic.py:4505\u001b[0m, in \u001b[0;36mNDFrame.drop\u001b[1;34m(self, labels, axis, index, columns, level, inplace, errors)\u001b[0m\n\u001b[0;32m   4503\u001b[0m \u001b[38;5;28;01mfor\u001b[39;00m axis, labels \u001b[38;5;129;01min\u001b[39;00m axes\u001b[38;5;241m.\u001b[39mitems():\n\u001b[0;32m   4504\u001b[0m     \u001b[38;5;28;01mif\u001b[39;00m labels \u001b[38;5;129;01mis\u001b[39;00m \u001b[38;5;129;01mnot\u001b[39;00m \u001b[38;5;28;01mNone\u001b[39;00m:\n\u001b[1;32m-> 4505\u001b[0m         obj \u001b[38;5;241m=\u001b[39m obj\u001b[38;5;241m.\u001b[39m_drop_axis(labels, axis, level\u001b[38;5;241m=\u001b[39mlevel, errors\u001b[38;5;241m=\u001b[39merrors)\n\u001b[0;32m   4507\u001b[0m \u001b[38;5;28;01mif\u001b[39;00m inplace:\n\u001b[0;32m   4508\u001b[0m     \u001b[38;5;28mself\u001b[39m\u001b[38;5;241m.\u001b[39m_update_inplace(obj)\n",
      "File \u001b[1;32m~\\anaconda3\\Lib\\site-packages\\pandas\\core\\generic.py:4546\u001b[0m, in \u001b[0;36mNDFrame._drop_axis\u001b[1;34m(self, labels, axis, level, errors, only_slice)\u001b[0m\n\u001b[0;32m   4544\u001b[0m         new_axis \u001b[38;5;241m=\u001b[39m axis\u001b[38;5;241m.\u001b[39mdrop(labels, level\u001b[38;5;241m=\u001b[39mlevel, errors\u001b[38;5;241m=\u001b[39merrors)\n\u001b[0;32m   4545\u001b[0m     \u001b[38;5;28;01melse\u001b[39;00m:\n\u001b[1;32m-> 4546\u001b[0m         new_axis \u001b[38;5;241m=\u001b[39m axis\u001b[38;5;241m.\u001b[39mdrop(labels, errors\u001b[38;5;241m=\u001b[39merrors)\n\u001b[0;32m   4547\u001b[0m     indexer \u001b[38;5;241m=\u001b[39m axis\u001b[38;5;241m.\u001b[39mget_indexer(new_axis)\n\u001b[0;32m   4549\u001b[0m \u001b[38;5;66;03m# Case for non-unique axis\u001b[39;00m\n\u001b[0;32m   4550\u001b[0m \u001b[38;5;28;01melse\u001b[39;00m:\n",
      "File \u001b[1;32m~\\anaconda3\\Lib\\site-packages\\pandas\\core\\indexes\\base.py:6934\u001b[0m, in \u001b[0;36mIndex.drop\u001b[1;34m(self, labels, errors)\u001b[0m\n\u001b[0;32m   6932\u001b[0m \u001b[38;5;28;01mif\u001b[39;00m mask\u001b[38;5;241m.\u001b[39many():\n\u001b[0;32m   6933\u001b[0m     \u001b[38;5;28;01mif\u001b[39;00m errors \u001b[38;5;241m!=\u001b[39m \u001b[38;5;124m\"\u001b[39m\u001b[38;5;124mignore\u001b[39m\u001b[38;5;124m\"\u001b[39m:\n\u001b[1;32m-> 6934\u001b[0m         \u001b[38;5;28;01mraise\u001b[39;00m \u001b[38;5;167;01mKeyError\u001b[39;00m(\u001b[38;5;124mf\u001b[39m\u001b[38;5;124m\"\u001b[39m\u001b[38;5;132;01m{\u001b[39;00m\u001b[38;5;28mlist\u001b[39m(labels[mask])\u001b[38;5;132;01m}\u001b[39;00m\u001b[38;5;124m not found in axis\u001b[39m\u001b[38;5;124m\"\u001b[39m)\n\u001b[0;32m   6935\u001b[0m     indexer \u001b[38;5;241m=\u001b[39m indexer[\u001b[38;5;241m~\u001b[39mmask]\n\u001b[0;32m   6936\u001b[0m \u001b[38;5;28;01mreturn\u001b[39;00m \u001b[38;5;28mself\u001b[39m\u001b[38;5;241m.\u001b[39mdelete(indexer)\n",
      "\u001b[1;31mKeyError\u001b[0m: \"['Image_Links'] not found in axis\""
     ]
    }
   ],
   "source": [
    "#Dropping the Image Column \n",
    "starbucks = starbucks.drop(['Image_Links'], axis=1)"
   ]
  },
  {
   "cell_type": "code",
   "execution_count": 70,
   "id": "e5fde4b9",
   "metadata": {},
   "outputs": [],
   "source": [
    "starbucks = starbucks.replace({'State' : {'TX' : 'Texas', 'FL' : 'Florida', 'PA' : 'Pennysylvania', 'WA':'Washington','OR':'Oregon',\n",
    "                              'NC':'North Carolina','MD':'Maryland','CA':'California','OH':'Ohio', 'HI':'Hawaii', \n",
    "                              'NJ':'New Jersey','GA':'Georgia','AZ':'Arizona','MA':'Massachusetts','VA':'Virginia',\n",
    "                              'NV':'Nevada','TN':'Tennessee','IA':'Iowa','WI':'Wisconsin','NH':'New Hampshire',\n",
    "                              'AR':'Arkansas','MN':'Minnesota','IN':'Indiana','MO':'Missouri','IL':'Illinois',\n",
    "                              'MI':'Michigan','MS':'Mississippi','CO':'Colorado','OK':'Oklahoma','UT':'Utah',\n",
    "                              'KY':'Kentucky','ME':'Maine','KS':'Kansas','NY':'New York','NE':'Nebraska',\n",
    "                              'AK':'Alaska','ID':'Idaho','LA':'Louisiana','SC':'South Carolina','WV':'West Virginia',\n",
    "                              'Wi.':'Wisconsin','ND':'North Dakota','RI':'Rhode Island','WY':'Wyoming','AL':'Alabama',\n",
    "                              'MT':'Montana','CT':'Connecticut','ca':'California','tx':'Texas','fl':'Florida',\n",
    "                              'ma':'Massachusetts','oh':'Ohio', 'NM':'New Mexico','York':'New York'}})"
   ]
  },
  {
   "cell_type": "code",
   "execution_count": 71,
   "id": "f648f82a",
   "metadata": {},
   "outputs": [
    {
     "data": {
      "text/plain": [
       "array(['Texas', 'Florida', 'Pennysylvania', 'Washington', 'Oregon',\n",
       "       'North Carolina', 'Maryland', 'Other', 'California', 'Ohio',\n",
       "       'Hawaii', 'New Jersey', 'Georgia', 'DC', 'Arizona',\n",
       "       'Massachusetts', 'Virginia', 'Nevada', 'Tennessee', 'Iowa',\n",
       "       'Wyoming', 'New Hampshire', 'Arkansas', 'Minnesota', 'Indiana',\n",
       "       'Missouri', 'Illinois', 'Michigan', 'Mississippi', 'Colorado',\n",
       "       'Oklahoma', 'Utah', 'Kentucky', 'Maine', 'Kansas', 'ON', 'BC',\n",
       "       'New York', 'Nebraska', 'Alaska', 'AB', 'Idaho', 'OTHER', 'Canada',\n",
       "       'Louisiana', 'UK', 'Kingdom', 'South Carolina', 'MB', 'SK',\n",
       "       'Saskatchewan', 'Carolina', 'NL', 'New Mexico', 'Alberta', 'Ala',\n",
       "       'West Virginia', 'Wisconsin', 'NS', 'North Dakota', 'Rhode Island',\n",
       "       'Alabama', 'QC', 'Montana', 'Connecticut', 'NEEDED'], dtype=object)"
      ]
     },
     "execution_count": 71,
     "metadata": {},
     "output_type": "execute_result"
    }
   ],
   "source": [
    "#Checking of other values\n",
    "starbucks['State'].unique()"
   ]
  },
  {
   "cell_type": "code",
   "execution_count": 73,
   "id": "62b1ad86",
   "metadata": {},
   "outputs": [],
   "source": [
    "#Dropping of other values, eg unsure acronyms and provinces outside the US \n",
    "\n",
    "unwanted = ['DC', 'ON','BC','AB','OTHER','Canada','UK','Kingdom','MB','SK','NL','Ala','NS','QC','NEEDED','Saskatchewan']\n",
    "\n",
    "starbucks = starbucks[starbucks.State.isin(unwanted) == False]"
   ]
  },
  {
   "cell_type": "code",
   "execution_count": 75,
   "id": "1491c940",
   "metadata": {},
   "outputs": [
    {
     "data": {
      "text/plain": [
       "array(['Texas', 'Florida', 'Pennysylvania', 'Washington', 'Oregon',\n",
       "       'North Carolina', 'Maryland', 'Other', 'California', 'Ohio',\n",
       "       'Hawaii', 'New Jersey', 'Georgia', 'Arizona', 'Massachusetts',\n",
       "       'Virginia', 'Nevada', 'Tennessee', 'Iowa', 'Wyoming',\n",
       "       'New Hampshire', 'Arkansas', 'Minnesota', 'Indiana', 'Missouri',\n",
       "       'Illinois', 'Michigan', 'Mississippi', 'Colorado', 'Oklahoma',\n",
       "       'Utah', 'Kentucky', 'Maine', 'Kansas', 'New York', 'Nebraska',\n",
       "       'Alaska', 'Idaho', 'Louisiana', 'South Carolina', 'Carolina',\n",
       "       'New Mexico', 'Alberta', 'West Virginia', 'Wisconsin',\n",
       "       'North Dakota', 'Rhode Island', 'Alabama', 'Montana',\n",
       "       'Connecticut'], dtype=object)"
      ]
     },
     "execution_count": 75,
     "metadata": {},
     "output_type": "execute_result"
    }
   ],
   "source": [
    "#Checking\n",
    "starbucks['State'].unique()"
   ]
  },
  {
   "cell_type": "code",
   "execution_count": 78,
   "id": "3fa337b2",
   "metadata": {},
   "outputs": [
    {
     "data": {
      "text/html": [
       "<div>\n",
       "<style scoped>\n",
       "    .dataframe tbody tr th:only-of-type {\n",
       "        vertical-align: middle;\n",
       "    }\n",
       "\n",
       "    .dataframe tbody tr th {\n",
       "        vertical-align: top;\n",
       "    }\n",
       "\n",
       "    .dataframe thead th {\n",
       "        text-align: right;\n",
       "    }\n",
       "</style>\n",
       "<table border=\"1\" class=\"dataframe\">\n",
       "  <thead>\n",
       "    <tr style=\"text-align: right;\">\n",
       "      <th></th>\n",
       "      <th>name</th>\n",
       "      <th>location</th>\n",
       "      <th>Date</th>\n",
       "      <th>Rating</th>\n",
       "      <th>Review</th>\n",
       "      <th>State</th>\n",
       "    </tr>\n",
       "  </thead>\n",
       "  <tbody>\n",
       "    <tr>\n",
       "      <th>0</th>\n",
       "      <td>Helen</td>\n",
       "      <td>Wichita Falls, TX</td>\n",
       "      <td>Reviewed Sept. 13, 2023</td>\n",
       "      <td>5.0</td>\n",
       "      <td>Amber and LaDonna at the Starbucks on Southwes...</td>\n",
       "      <td>Texas</td>\n",
       "    </tr>\n",
       "    <tr>\n",
       "      <th>1</th>\n",
       "      <td>Courtney</td>\n",
       "      <td>Apopka, FL</td>\n",
       "      <td>Reviewed July 16, 2023</td>\n",
       "      <td>5.0</td>\n",
       "      <td>** at the Starbucks by the fire station on 436...</td>\n",
       "      <td>Florida</td>\n",
       "    </tr>\n",
       "    <tr>\n",
       "      <th>2</th>\n",
       "      <td>Daynelle</td>\n",
       "      <td>Cranberry Twp, PA</td>\n",
       "      <td>Reviewed July 5, 2023</td>\n",
       "      <td>5.0</td>\n",
       "      <td>I just wanted to go out of my way to recognize...</td>\n",
       "      <td>Pennysylvania</td>\n",
       "    </tr>\n",
       "    <tr>\n",
       "      <th>3</th>\n",
       "      <td>Taylor</td>\n",
       "      <td>Seattle, WA</td>\n",
       "      <td>Reviewed May 26, 2023</td>\n",
       "      <td>5.0</td>\n",
       "      <td>Me and my friend were at Starbucks and my card...</td>\n",
       "      <td>Washington</td>\n",
       "    </tr>\n",
       "    <tr>\n",
       "      <th>4</th>\n",
       "      <td>Tenessa</td>\n",
       "      <td>Gresham, OR</td>\n",
       "      <td>Reviewed Jan. 22, 2023</td>\n",
       "      <td>5.0</td>\n",
       "      <td>I’m on this kick of drinking 5 cups of warm wa...</td>\n",
       "      <td>Oregon</td>\n",
       "    </tr>\n",
       "    <tr>\n",
       "      <th>...</th>\n",
       "      <td>...</td>\n",
       "      <td>...</td>\n",
       "      <td>...</td>\n",
       "      <td>...</td>\n",
       "      <td>...</td>\n",
       "      <td>...</td>\n",
       "    </tr>\n",
       "    <tr>\n",
       "      <th>699</th>\n",
       "      <td>Susie</td>\n",
       "      <td>Mayer, AZ</td>\n",
       "      <td>Reviewed Oct. 4, 2011</td>\n",
       "      <td>1.0</td>\n",
       "      <td>I have never been so rudely spoken to in such ...</td>\n",
       "      <td>Arizona</td>\n",
       "    </tr>\n",
       "    <tr>\n",
       "      <th>700</th>\n",
       "      <td>Margaret</td>\n",
       "      <td>Cotati, CA</td>\n",
       "      <td>Reviewed Oct. 2, 2011</td>\n",
       "      <td>1.0</td>\n",
       "      <td>I ordered Via Starbucks coffee online. I recei...</td>\n",
       "      <td>California</td>\n",
       "    </tr>\n",
       "    <tr>\n",
       "      <th>702</th>\n",
       "      <td>Jayne</td>\n",
       "      <td>Ny, NY</td>\n",
       "      <td>Reviewed Aug. 24, 2011</td>\n",
       "      <td>1.0</td>\n",
       "      <td>The bagel was ice cold, not cut and not toasted.</td>\n",
       "      <td>New York</td>\n",
       "    </tr>\n",
       "    <tr>\n",
       "      <th>703</th>\n",
       "      <td>Norma</td>\n",
       "      <td>La Puente, CA</td>\n",
       "      <td>Reviewed Aug. 15, 2011</td>\n",
       "      <td>1.0</td>\n",
       "      <td>In the morning of Monday, August 15, 2011, at ...</td>\n",
       "      <td>California</td>\n",
       "    </tr>\n",
       "    <tr>\n",
       "      <th>749</th>\n",
       "      <td>Kenneth</td>\n",
       "      <td>Beecher, IL</td>\n",
       "      <td>Reviewed Feb. 6, 2010</td>\n",
       "      <td>5.0</td>\n",
       "      <td>I found the coffee at Starbucks overrated and ...</td>\n",
       "      <td>Illinois</td>\n",
       "    </tr>\n",
       "  </tbody>\n",
       "</table>\n",
       "<p>666 rows × 6 columns</p>\n",
       "</div>"
      ],
      "text/plain": [
       "         name           location                     Date  Rating  \\\n",
       "0       Helen  Wichita Falls, TX  Reviewed Sept. 13, 2023     5.0   \n",
       "1    Courtney         Apopka, FL   Reviewed July 16, 2023     5.0   \n",
       "2    Daynelle  Cranberry Twp, PA    Reviewed July 5, 2023     5.0   \n",
       "3      Taylor        Seattle, WA    Reviewed May 26, 2023     5.0   \n",
       "4     Tenessa        Gresham, OR   Reviewed Jan. 22, 2023     5.0   \n",
       "..        ...                ...                      ...     ...   \n",
       "699     Susie          Mayer, AZ    Reviewed Oct. 4, 2011     1.0   \n",
       "700  Margaret         Cotati, CA    Reviewed Oct. 2, 2011     1.0   \n",
       "702     Jayne             Ny, NY   Reviewed Aug. 24, 2011     1.0   \n",
       "703     Norma      La Puente, CA   Reviewed Aug. 15, 2011     1.0   \n",
       "749   Kenneth        Beecher, IL    Reviewed Feb. 6, 2010     5.0   \n",
       "\n",
       "                                                Review          State  \n",
       "0    Amber and LaDonna at the Starbucks on Southwes...          Texas  \n",
       "1    ** at the Starbucks by the fire station on 436...        Florida  \n",
       "2    I just wanted to go out of my way to recognize...  Pennysylvania  \n",
       "3    Me and my friend were at Starbucks and my card...     Washington  \n",
       "4    I’m on this kick of drinking 5 cups of warm wa...         Oregon  \n",
       "..                                                 ...            ...  \n",
       "699  I have never been so rudely spoken to in such ...        Arizona  \n",
       "700  I ordered Via Starbucks coffee online. I recei...     California  \n",
       "702   The bagel was ice cold, not cut and not toasted.       New York  \n",
       "703  In the morning of Monday, August 15, 2011, at ...     California  \n",
       "749  I found the coffee at Starbucks overrated and ...       Illinois  \n",
       "\n",
       "[666 rows x 6 columns]"
      ]
     },
     "execution_count": 78,
     "metadata": {},
     "output_type": "execute_result"
    }
   ],
   "source": [
    "starbucks"
   ]
  },
  {
   "cell_type": "markdown",
   "id": "cba76eaa",
   "metadata": {},
   "source": [
    "Data Manipulation: Adding of Gender Column "
   ]
  },
  {
   "cell_type": "code",
   "execution_count": 76,
   "id": "f68968cb",
   "metadata": {},
   "outputs": [
    {
     "name": "stdout",
     "output_type": "stream",
     "text": [
      "Requirement already satisfied: gender-guesser in c:\\users\\kathl\\anaconda3\\lib\\site-packages (0.4.0)\n"
     ]
    }
   ],
   "source": [
    "!pip install gender-guesser"
   ]
  },
  {
   "cell_type": "code",
   "execution_count": 82,
   "id": "92498452",
   "metadata": {},
   "outputs": [],
   "source": [
    "import gender_guesser.detector as gender"
   ]
  },
  {
   "cell_type": "code",
   "execution_count": 88,
   "id": "e36d41ad",
   "metadata": {},
   "outputs": [
    {
     "data": {
      "text/plain": [
       "'female'"
      ]
     },
     "execution_count": 88,
     "metadata": {},
     "output_type": "execute_result"
    }
   ],
   "source": [
    "detect_ = gender.Detector()\n",
    "\n",
    "detect_.get_gender(\"Carla\")"
   ]
  },
  {
   "cell_type": "code",
   "execution_count": 89,
   "id": "c2abe5d0",
   "metadata": {},
   "outputs": [],
   "source": [
    "genders = []\n",
    "\n",
    "for each in starbucks['name']:\n",
    "    new = detect_.get_gender(each)\n",
    "    genders.append(new)"
   ]
  },
  {
   "cell_type": "code",
   "execution_count": 92,
   "id": "ffc4b50a",
   "metadata": {},
   "outputs": [],
   "source": [
    "starbucks['PredictedGender'] = genders"
   ]
  },
  {
   "cell_type": "code",
   "execution_count": 93,
   "id": "0bf7e16e",
   "metadata": {},
   "outputs": [
    {
     "data": {
      "text/html": [
       "<div>\n",
       "<style scoped>\n",
       "    .dataframe tbody tr th:only-of-type {\n",
       "        vertical-align: middle;\n",
       "    }\n",
       "\n",
       "    .dataframe tbody tr th {\n",
       "        vertical-align: top;\n",
       "    }\n",
       "\n",
       "    .dataframe thead th {\n",
       "        text-align: right;\n",
       "    }\n",
       "</style>\n",
       "<table border=\"1\" class=\"dataframe\">\n",
       "  <thead>\n",
       "    <tr style=\"text-align: right;\">\n",
       "      <th></th>\n",
       "      <th>name</th>\n",
       "      <th>location</th>\n",
       "      <th>Date</th>\n",
       "      <th>Rating</th>\n",
       "      <th>Review</th>\n",
       "      <th>State</th>\n",
       "      <th>PredictedGender</th>\n",
       "    </tr>\n",
       "  </thead>\n",
       "  <tbody>\n",
       "    <tr>\n",
       "      <th>0</th>\n",
       "      <td>Helen</td>\n",
       "      <td>Wichita Falls, TX</td>\n",
       "      <td>Reviewed Sept. 13, 2023</td>\n",
       "      <td>5.0</td>\n",
       "      <td>Amber and LaDonna at the Starbucks on Southwes...</td>\n",
       "      <td>Texas</td>\n",
       "      <td>female</td>\n",
       "    </tr>\n",
       "    <tr>\n",
       "      <th>1</th>\n",
       "      <td>Courtney</td>\n",
       "      <td>Apopka, FL</td>\n",
       "      <td>Reviewed July 16, 2023</td>\n",
       "      <td>5.0</td>\n",
       "      <td>** at the Starbucks by the fire station on 436...</td>\n",
       "      <td>Florida</td>\n",
       "      <td>mostly_female</td>\n",
       "    </tr>\n",
       "    <tr>\n",
       "      <th>2</th>\n",
       "      <td>Daynelle</td>\n",
       "      <td>Cranberry Twp, PA</td>\n",
       "      <td>Reviewed July 5, 2023</td>\n",
       "      <td>5.0</td>\n",
       "      <td>I just wanted to go out of my way to recognize...</td>\n",
       "      <td>Pennysylvania</td>\n",
       "      <td>unknown</td>\n",
       "    </tr>\n",
       "    <tr>\n",
       "      <th>3</th>\n",
       "      <td>Taylor</td>\n",
       "      <td>Seattle, WA</td>\n",
       "      <td>Reviewed May 26, 2023</td>\n",
       "      <td>5.0</td>\n",
       "      <td>Me and my friend were at Starbucks and my card...</td>\n",
       "      <td>Washington</td>\n",
       "      <td>mostly_male</td>\n",
       "    </tr>\n",
       "    <tr>\n",
       "      <th>4</th>\n",
       "      <td>Tenessa</td>\n",
       "      <td>Gresham, OR</td>\n",
       "      <td>Reviewed Jan. 22, 2023</td>\n",
       "      <td>5.0</td>\n",
       "      <td>I’m on this kick of drinking 5 cups of warm wa...</td>\n",
       "      <td>Oregon</td>\n",
       "      <td>unknown</td>\n",
       "    </tr>\n",
       "    <tr>\n",
       "      <th>...</th>\n",
       "      <td>...</td>\n",
       "      <td>...</td>\n",
       "      <td>...</td>\n",
       "      <td>...</td>\n",
       "      <td>...</td>\n",
       "      <td>...</td>\n",
       "      <td>...</td>\n",
       "    </tr>\n",
       "    <tr>\n",
       "      <th>699</th>\n",
       "      <td>Susie</td>\n",
       "      <td>Mayer, AZ</td>\n",
       "      <td>Reviewed Oct. 4, 2011</td>\n",
       "      <td>1.0</td>\n",
       "      <td>I have never been so rudely spoken to in such ...</td>\n",
       "      <td>Arizona</td>\n",
       "      <td>female</td>\n",
       "    </tr>\n",
       "    <tr>\n",
       "      <th>700</th>\n",
       "      <td>Margaret</td>\n",
       "      <td>Cotati, CA</td>\n",
       "      <td>Reviewed Oct. 2, 2011</td>\n",
       "      <td>1.0</td>\n",
       "      <td>I ordered Via Starbucks coffee online. I recei...</td>\n",
       "      <td>California</td>\n",
       "      <td>female</td>\n",
       "    </tr>\n",
       "    <tr>\n",
       "      <th>702</th>\n",
       "      <td>Jayne</td>\n",
       "      <td>Ny, NY</td>\n",
       "      <td>Reviewed Aug. 24, 2011</td>\n",
       "      <td>1.0</td>\n",
       "      <td>The bagel was ice cold, not cut and not toasted.</td>\n",
       "      <td>New York</td>\n",
       "      <td>female</td>\n",
       "    </tr>\n",
       "    <tr>\n",
       "      <th>703</th>\n",
       "      <td>Norma</td>\n",
       "      <td>La Puente, CA</td>\n",
       "      <td>Reviewed Aug. 15, 2011</td>\n",
       "      <td>1.0</td>\n",
       "      <td>In the morning of Monday, August 15, 2011, at ...</td>\n",
       "      <td>California</td>\n",
       "      <td>female</td>\n",
       "    </tr>\n",
       "    <tr>\n",
       "      <th>749</th>\n",
       "      <td>Kenneth</td>\n",
       "      <td>Beecher, IL</td>\n",
       "      <td>Reviewed Feb. 6, 2010</td>\n",
       "      <td>5.0</td>\n",
       "      <td>I found the coffee at Starbucks overrated and ...</td>\n",
       "      <td>Illinois</td>\n",
       "      <td>male</td>\n",
       "    </tr>\n",
       "  </tbody>\n",
       "</table>\n",
       "<p>666 rows × 7 columns</p>\n",
       "</div>"
      ],
      "text/plain": [
       "         name           location                     Date  Rating  \\\n",
       "0       Helen  Wichita Falls, TX  Reviewed Sept. 13, 2023     5.0   \n",
       "1    Courtney         Apopka, FL   Reviewed July 16, 2023     5.0   \n",
       "2    Daynelle  Cranberry Twp, PA    Reviewed July 5, 2023     5.0   \n",
       "3      Taylor        Seattle, WA    Reviewed May 26, 2023     5.0   \n",
       "4     Tenessa        Gresham, OR   Reviewed Jan. 22, 2023     5.0   \n",
       "..        ...                ...                      ...     ...   \n",
       "699     Susie          Mayer, AZ    Reviewed Oct. 4, 2011     1.0   \n",
       "700  Margaret         Cotati, CA    Reviewed Oct. 2, 2011     1.0   \n",
       "702     Jayne             Ny, NY   Reviewed Aug. 24, 2011     1.0   \n",
       "703     Norma      La Puente, CA   Reviewed Aug. 15, 2011     1.0   \n",
       "749   Kenneth        Beecher, IL    Reviewed Feb. 6, 2010     5.0   \n",
       "\n",
       "                                                Review          State  \\\n",
       "0    Amber and LaDonna at the Starbucks on Southwes...          Texas   \n",
       "1    ** at the Starbucks by the fire station on 436...        Florida   \n",
       "2    I just wanted to go out of my way to recognize...  Pennysylvania   \n",
       "3    Me and my friend were at Starbucks and my card...     Washington   \n",
       "4    I’m on this kick of drinking 5 cups of warm wa...         Oregon   \n",
       "..                                                 ...            ...   \n",
       "699  I have never been so rudely spoken to in such ...        Arizona   \n",
       "700  I ordered Via Starbucks coffee online. I recei...     California   \n",
       "702   The bagel was ice cold, not cut and not toasted.       New York   \n",
       "703  In the morning of Monday, August 15, 2011, at ...     California   \n",
       "749  I found the coffee at Starbucks overrated and ...       Illinois   \n",
       "\n",
       "    PredictedGender  \n",
       "0            female  \n",
       "1     mostly_female  \n",
       "2           unknown  \n",
       "3       mostly_male  \n",
       "4           unknown  \n",
       "..              ...  \n",
       "699          female  \n",
       "700          female  \n",
       "702          female  \n",
       "703          female  \n",
       "749            male  \n",
       "\n",
       "[666 rows x 7 columns]"
      ]
     },
     "execution_count": 93,
     "metadata": {},
     "output_type": "execute_result"
    }
   ],
   "source": [
    "starbucks"
   ]
  },
  {
   "cell_type": "code",
   "execution_count": 96,
   "id": "24191ffc",
   "metadata": {},
   "outputs": [],
   "source": [
    "#Deleting of Changing of Mostly.f or m --> f or m \n",
    "starbucks = starbucks.replace({'PredictedGender' : {'mostly_female' : 'female', 'mostly_male' : 'male'}})"
   ]
  },
  {
   "cell_type": "code",
   "execution_count": 105,
   "id": "9a3ab78c",
   "metadata": {},
   "outputs": [],
   "source": [
    "starbucks = starbucks.drop(starbucks[starbucks['PredictedGender'] == 'unknown'].index)"
   ]
  },
  {
   "cell_type": "code",
   "execution_count": 106,
   "id": "752ba87e",
   "metadata": {},
   "outputs": [],
   "source": [
    "starbucks = starbucks.drop(starbucks[starbucks['PredictedGender'] == 'andy'].index)"
   ]
  },
  {
   "cell_type": "code",
   "execution_count": 107,
   "id": "799fb5f8",
   "metadata": {},
   "outputs": [
    {
     "data": {
      "text/html": [
       "<div>\n",
       "<style scoped>\n",
       "    .dataframe tbody tr th:only-of-type {\n",
       "        vertical-align: middle;\n",
       "    }\n",
       "\n",
       "    .dataframe tbody tr th {\n",
       "        vertical-align: top;\n",
       "    }\n",
       "\n",
       "    .dataframe thead th {\n",
       "        text-align: right;\n",
       "    }\n",
       "</style>\n",
       "<table border=\"1\" class=\"dataframe\">\n",
       "  <thead>\n",
       "    <tr style=\"text-align: right;\">\n",
       "      <th></th>\n",
       "      <th>name</th>\n",
       "      <th>location</th>\n",
       "      <th>Date</th>\n",
       "      <th>Rating</th>\n",
       "      <th>Review</th>\n",
       "      <th>State</th>\n",
       "      <th>PredictedGender</th>\n",
       "      <th>Year</th>\n",
       "    </tr>\n",
       "  </thead>\n",
       "  <tbody>\n",
       "    <tr>\n",
       "      <th>0</th>\n",
       "      <td>Helen</td>\n",
       "      <td>Wichita Falls, TX</td>\n",
       "      <td>Reviewed Sept. 13, 2023</td>\n",
       "      <td>5.0</td>\n",
       "      <td>Amber and LaDonna at the Starbucks on Southwes...</td>\n",
       "      <td>Texas</td>\n",
       "      <td>female</td>\n",
       "      <td>2023</td>\n",
       "    </tr>\n",
       "    <tr>\n",
       "      <th>1</th>\n",
       "      <td>Courtney</td>\n",
       "      <td>Apopka, FL</td>\n",
       "      <td>Reviewed July 16, 2023</td>\n",
       "      <td>5.0</td>\n",
       "      <td>** at the Starbucks by the fire station on 436...</td>\n",
       "      <td>Florida</td>\n",
       "      <td>female</td>\n",
       "      <td>2023</td>\n",
       "    </tr>\n",
       "    <tr>\n",
       "      <th>3</th>\n",
       "      <td>Taylor</td>\n",
       "      <td>Seattle, WA</td>\n",
       "      <td>Reviewed May 26, 2023</td>\n",
       "      <td>5.0</td>\n",
       "      <td>Me and my friend were at Starbucks and my card...</td>\n",
       "      <td>Washington</td>\n",
       "      <td>male</td>\n",
       "      <td>2023</td>\n",
       "    </tr>\n",
       "    <tr>\n",
       "      <th>5</th>\n",
       "      <td>Alyssa</td>\n",
       "      <td>Sunnyvale, TX</td>\n",
       "      <td>Reviewed Sept. 14, 2023</td>\n",
       "      <td>1.0</td>\n",
       "      <td>We had to correct them on our order 3 times. T...</td>\n",
       "      <td>Texas</td>\n",
       "      <td>female</td>\n",
       "      <td>2023</td>\n",
       "    </tr>\n",
       "    <tr>\n",
       "      <th>7</th>\n",
       "      <td>Nikki</td>\n",
       "      <td>Asheville, NC</td>\n",
       "      <td>Reviewed Aug. 25, 2023</td>\n",
       "      <td>1.0</td>\n",
       "      <td>Starbucks near me just launched new fall foods...</td>\n",
       "      <td>North Carolina</td>\n",
       "      <td>female</td>\n",
       "      <td>2023</td>\n",
       "    </tr>\n",
       "    <tr>\n",
       "      <th>...</th>\n",
       "      <td>...</td>\n",
       "      <td>...</td>\n",
       "      <td>...</td>\n",
       "      <td>...</td>\n",
       "      <td>...</td>\n",
       "      <td>...</td>\n",
       "      <td>...</td>\n",
       "      <td>...</td>\n",
       "    </tr>\n",
       "    <tr>\n",
       "      <th>699</th>\n",
       "      <td>Susie</td>\n",
       "      <td>Mayer, AZ</td>\n",
       "      <td>Reviewed Oct. 4, 2011</td>\n",
       "      <td>1.0</td>\n",
       "      <td>I have never been so rudely spoken to in such ...</td>\n",
       "      <td>Arizona</td>\n",
       "      <td>female</td>\n",
       "      <td>2011</td>\n",
       "    </tr>\n",
       "    <tr>\n",
       "      <th>700</th>\n",
       "      <td>Margaret</td>\n",
       "      <td>Cotati, CA</td>\n",
       "      <td>Reviewed Oct. 2, 2011</td>\n",
       "      <td>1.0</td>\n",
       "      <td>I ordered Via Starbucks coffee online. I recei...</td>\n",
       "      <td>California</td>\n",
       "      <td>female</td>\n",
       "      <td>2011</td>\n",
       "    </tr>\n",
       "    <tr>\n",
       "      <th>702</th>\n",
       "      <td>Jayne</td>\n",
       "      <td>Ny, NY</td>\n",
       "      <td>Reviewed Aug. 24, 2011</td>\n",
       "      <td>1.0</td>\n",
       "      <td>The bagel was ice cold, not cut and not toasted.</td>\n",
       "      <td>New York</td>\n",
       "      <td>female</td>\n",
       "      <td>2011</td>\n",
       "    </tr>\n",
       "    <tr>\n",
       "      <th>703</th>\n",
       "      <td>Norma</td>\n",
       "      <td>La Puente, CA</td>\n",
       "      <td>Reviewed Aug. 15, 2011</td>\n",
       "      <td>1.0</td>\n",
       "      <td>In the morning of Monday, August 15, 2011, at ...</td>\n",
       "      <td>California</td>\n",
       "      <td>female</td>\n",
       "      <td>2011</td>\n",
       "    </tr>\n",
       "    <tr>\n",
       "      <th>749</th>\n",
       "      <td>Kenneth</td>\n",
       "      <td>Beecher, IL</td>\n",
       "      <td>Reviewed Feb. 6, 2010</td>\n",
       "      <td>5.0</td>\n",
       "      <td>I found the coffee at Starbucks overrated and ...</td>\n",
       "      <td>Illinois</td>\n",
       "      <td>male</td>\n",
       "      <td>2010</td>\n",
       "    </tr>\n",
       "  </tbody>\n",
       "</table>\n",
       "<p>496 rows × 8 columns</p>\n",
       "</div>"
      ],
      "text/plain": [
       "         name           location                     Date  Rating  \\\n",
       "0       Helen  Wichita Falls, TX  Reviewed Sept. 13, 2023     5.0   \n",
       "1    Courtney         Apopka, FL   Reviewed July 16, 2023     5.0   \n",
       "3      Taylor        Seattle, WA    Reviewed May 26, 2023     5.0   \n",
       "5      Alyssa      Sunnyvale, TX  Reviewed Sept. 14, 2023     1.0   \n",
       "7       Nikki      Asheville, NC   Reviewed Aug. 25, 2023     1.0   \n",
       "..        ...                ...                      ...     ...   \n",
       "699     Susie          Mayer, AZ    Reviewed Oct. 4, 2011     1.0   \n",
       "700  Margaret         Cotati, CA    Reviewed Oct. 2, 2011     1.0   \n",
       "702     Jayne             Ny, NY   Reviewed Aug. 24, 2011     1.0   \n",
       "703     Norma      La Puente, CA   Reviewed Aug. 15, 2011     1.0   \n",
       "749   Kenneth        Beecher, IL    Reviewed Feb. 6, 2010     5.0   \n",
       "\n",
       "                                                Review           State  \\\n",
       "0    Amber and LaDonna at the Starbucks on Southwes...           Texas   \n",
       "1    ** at the Starbucks by the fire station on 436...         Florida   \n",
       "3    Me and my friend were at Starbucks and my card...      Washington   \n",
       "5    We had to correct them on our order 3 times. T...           Texas   \n",
       "7    Starbucks near me just launched new fall foods...  North Carolina   \n",
       "..                                                 ...             ...   \n",
       "699  I have never been so rudely spoken to in such ...         Arizona   \n",
       "700  I ordered Via Starbucks coffee online. I recei...      California   \n",
       "702   The bagel was ice cold, not cut and not toasted.        New York   \n",
       "703  In the morning of Monday, August 15, 2011, at ...      California   \n",
       "749  I found the coffee at Starbucks overrated and ...        Illinois   \n",
       "\n",
       "    PredictedGender  Year  \n",
       "0            female  2023  \n",
       "1            female  2023  \n",
       "3              male  2023  \n",
       "5            female  2023  \n",
       "7            female  2023  \n",
       "..              ...   ...  \n",
       "699          female  2011  \n",
       "700          female  2011  \n",
       "702          female  2011  \n",
       "703          female  2011  \n",
       "749            male  2010  \n",
       "\n",
       "[496 rows x 8 columns]"
      ]
     },
     "execution_count": 107,
     "metadata": {},
     "output_type": "execute_result"
    }
   ],
   "source": [
    "starbucks"
   ]
  },
  {
   "cell_type": "markdown",
   "id": "92f6f1e6",
   "metadata": {},
   "source": [
    "Data Manipulation: Changing the Date to Year only "
   ]
  },
  {
   "cell_type": "code",
   "execution_count": 100,
   "id": "8c2c4803",
   "metadata": {},
   "outputs": [],
   "source": [
    "starbucks['Year'] = starbucks[\"Date\"].str.split().str[-1]"
   ]
  },
  {
   "cell_type": "code",
   "execution_count": 101,
   "id": "63a64bdb",
   "metadata": {},
   "outputs": [
    {
     "data": {
      "text/html": [
       "<div>\n",
       "<style scoped>\n",
       "    .dataframe tbody tr th:only-of-type {\n",
       "        vertical-align: middle;\n",
       "    }\n",
       "\n",
       "    .dataframe tbody tr th {\n",
       "        vertical-align: top;\n",
       "    }\n",
       "\n",
       "    .dataframe thead th {\n",
       "        text-align: right;\n",
       "    }\n",
       "</style>\n",
       "<table border=\"1\" class=\"dataframe\">\n",
       "  <thead>\n",
       "    <tr style=\"text-align: right;\">\n",
       "      <th></th>\n",
       "      <th>name</th>\n",
       "      <th>location</th>\n",
       "      <th>Date</th>\n",
       "      <th>Rating</th>\n",
       "      <th>Review</th>\n",
       "      <th>State</th>\n",
       "      <th>PredictedGender</th>\n",
       "      <th>Year</th>\n",
       "    </tr>\n",
       "  </thead>\n",
       "  <tbody>\n",
       "    <tr>\n",
       "      <th>0</th>\n",
       "      <td>Helen</td>\n",
       "      <td>Wichita Falls, TX</td>\n",
       "      <td>Reviewed Sept. 13, 2023</td>\n",
       "      <td>5.0</td>\n",
       "      <td>Amber and LaDonna at the Starbucks on Southwes...</td>\n",
       "      <td>Texas</td>\n",
       "      <td>female</td>\n",
       "      <td>2023</td>\n",
       "    </tr>\n",
       "    <tr>\n",
       "      <th>1</th>\n",
       "      <td>Courtney</td>\n",
       "      <td>Apopka, FL</td>\n",
       "      <td>Reviewed July 16, 2023</td>\n",
       "      <td>5.0</td>\n",
       "      <td>** at the Starbucks by the fire station on 436...</td>\n",
       "      <td>Florida</td>\n",
       "      <td>female</td>\n",
       "      <td>2023</td>\n",
       "    </tr>\n",
       "    <tr>\n",
       "      <th>3</th>\n",
       "      <td>Taylor</td>\n",
       "      <td>Seattle, WA</td>\n",
       "      <td>Reviewed May 26, 2023</td>\n",
       "      <td>5.0</td>\n",
       "      <td>Me and my friend were at Starbucks and my card...</td>\n",
       "      <td>Washington</td>\n",
       "      <td>male</td>\n",
       "      <td>2023</td>\n",
       "    </tr>\n",
       "    <tr>\n",
       "      <th>5</th>\n",
       "      <td>Alyssa</td>\n",
       "      <td>Sunnyvale, TX</td>\n",
       "      <td>Reviewed Sept. 14, 2023</td>\n",
       "      <td>1.0</td>\n",
       "      <td>We had to correct them on our order 3 times. T...</td>\n",
       "      <td>Texas</td>\n",
       "      <td>female</td>\n",
       "      <td>2023</td>\n",
       "    </tr>\n",
       "    <tr>\n",
       "      <th>7</th>\n",
       "      <td>Nikki</td>\n",
       "      <td>Asheville, NC</td>\n",
       "      <td>Reviewed Aug. 25, 2023</td>\n",
       "      <td>1.0</td>\n",
       "      <td>Starbucks near me just launched new fall foods...</td>\n",
       "      <td>North Carolina</td>\n",
       "      <td>female</td>\n",
       "      <td>2023</td>\n",
       "    </tr>\n",
       "    <tr>\n",
       "      <th>...</th>\n",
       "      <td>...</td>\n",
       "      <td>...</td>\n",
       "      <td>...</td>\n",
       "      <td>...</td>\n",
       "      <td>...</td>\n",
       "      <td>...</td>\n",
       "      <td>...</td>\n",
       "      <td>...</td>\n",
       "    </tr>\n",
       "    <tr>\n",
       "      <th>699</th>\n",
       "      <td>Susie</td>\n",
       "      <td>Mayer, AZ</td>\n",
       "      <td>Reviewed Oct. 4, 2011</td>\n",
       "      <td>1.0</td>\n",
       "      <td>I have never been so rudely spoken to in such ...</td>\n",
       "      <td>Arizona</td>\n",
       "      <td>female</td>\n",
       "      <td>2011</td>\n",
       "    </tr>\n",
       "    <tr>\n",
       "      <th>700</th>\n",
       "      <td>Margaret</td>\n",
       "      <td>Cotati, CA</td>\n",
       "      <td>Reviewed Oct. 2, 2011</td>\n",
       "      <td>1.0</td>\n",
       "      <td>I ordered Via Starbucks coffee online. I recei...</td>\n",
       "      <td>California</td>\n",
       "      <td>female</td>\n",
       "      <td>2011</td>\n",
       "    </tr>\n",
       "    <tr>\n",
       "      <th>702</th>\n",
       "      <td>Jayne</td>\n",
       "      <td>Ny, NY</td>\n",
       "      <td>Reviewed Aug. 24, 2011</td>\n",
       "      <td>1.0</td>\n",
       "      <td>The bagel was ice cold, not cut and not toasted.</td>\n",
       "      <td>New York</td>\n",
       "      <td>female</td>\n",
       "      <td>2011</td>\n",
       "    </tr>\n",
       "    <tr>\n",
       "      <th>703</th>\n",
       "      <td>Norma</td>\n",
       "      <td>La Puente, CA</td>\n",
       "      <td>Reviewed Aug. 15, 2011</td>\n",
       "      <td>1.0</td>\n",
       "      <td>In the morning of Monday, August 15, 2011, at ...</td>\n",
       "      <td>California</td>\n",
       "      <td>female</td>\n",
       "      <td>2011</td>\n",
       "    </tr>\n",
       "    <tr>\n",
       "      <th>749</th>\n",
       "      <td>Kenneth</td>\n",
       "      <td>Beecher, IL</td>\n",
       "      <td>Reviewed Feb. 6, 2010</td>\n",
       "      <td>5.0</td>\n",
       "      <td>I found the coffee at Starbucks overrated and ...</td>\n",
       "      <td>Illinois</td>\n",
       "      <td>male</td>\n",
       "      <td>2010</td>\n",
       "    </tr>\n",
       "  </tbody>\n",
       "</table>\n",
       "<p>498 rows × 8 columns</p>\n",
       "</div>"
      ],
      "text/plain": [
       "         name           location                     Date  Rating  \\\n",
       "0       Helen  Wichita Falls, TX  Reviewed Sept. 13, 2023     5.0   \n",
       "1    Courtney         Apopka, FL   Reviewed July 16, 2023     5.0   \n",
       "3      Taylor        Seattle, WA    Reviewed May 26, 2023     5.0   \n",
       "5      Alyssa      Sunnyvale, TX  Reviewed Sept. 14, 2023     1.0   \n",
       "7       Nikki      Asheville, NC   Reviewed Aug. 25, 2023     1.0   \n",
       "..        ...                ...                      ...     ...   \n",
       "699     Susie          Mayer, AZ    Reviewed Oct. 4, 2011     1.0   \n",
       "700  Margaret         Cotati, CA    Reviewed Oct. 2, 2011     1.0   \n",
       "702     Jayne             Ny, NY   Reviewed Aug. 24, 2011     1.0   \n",
       "703     Norma      La Puente, CA   Reviewed Aug. 15, 2011     1.0   \n",
       "749   Kenneth        Beecher, IL    Reviewed Feb. 6, 2010     5.0   \n",
       "\n",
       "                                                Review           State  \\\n",
       "0    Amber and LaDonna at the Starbucks on Southwes...           Texas   \n",
       "1    ** at the Starbucks by the fire station on 436...         Florida   \n",
       "3    Me and my friend were at Starbucks and my card...      Washington   \n",
       "5    We had to correct them on our order 3 times. T...           Texas   \n",
       "7    Starbucks near me just launched new fall foods...  North Carolina   \n",
       "..                                                 ...             ...   \n",
       "699  I have never been so rudely spoken to in such ...         Arizona   \n",
       "700  I ordered Via Starbucks coffee online. I recei...      California   \n",
       "702   The bagel was ice cold, not cut and not toasted.        New York   \n",
       "703  In the morning of Monday, August 15, 2011, at ...      California   \n",
       "749  I found the coffee at Starbucks overrated and ...        Illinois   \n",
       "\n",
       "    PredictedGender  Year  \n",
       "0            female  2023  \n",
       "1            female  2023  \n",
       "3              male  2023  \n",
       "5            female  2023  \n",
       "7            female  2023  \n",
       "..              ...   ...  \n",
       "699          female  2011  \n",
       "700          female  2011  \n",
       "702          female  2011  \n",
       "703          female  2011  \n",
       "749            male  2010  \n",
       "\n",
       "[498 rows x 8 columns]"
      ]
     },
     "execution_count": 101,
     "metadata": {},
     "output_type": "execute_result"
    }
   ],
   "source": [
    "starbucks"
   ]
  },
  {
   "cell_type": "code",
   "execution_count": 124,
   "id": "e5b38793",
   "metadata": {},
   "outputs": [
    {
     "data": {
      "text/plain": [
       "PredictedGender\n",
       "female    306\n",
       "male      190\n",
       "Name: Rating, dtype: int64"
      ]
     },
     "execution_count": 124,
     "metadata": {},
     "output_type": "execute_result"
    }
   ],
   "source": [
    "starbucks.groupby([\"PredictedGender\"])[\"Rating\"].count()"
   ]
  },
  {
   "cell_type": "code",
   "execution_count": 125,
   "id": "db9c973f",
   "metadata": {},
   "outputs": [
    {
     "data": {
      "text/plain": [
       "State\n",
       "Alaska              1\n",
       "Alberta             1\n",
       "Arizona            19\n",
       "Arkansas            5\n",
       "California        110\n",
       "Carolina            1\n",
       "Colorado           13\n",
       "Connecticut         1\n",
       "Florida            29\n",
       "Georgia            18\n",
       "Hawaii              2\n",
       "Idaho               3\n",
       "Illinois           17\n",
       "Indiana             5\n",
       "Iowa                1\n",
       "Kentucky            5\n",
       "Louisiana           4\n",
       "Maine               2\n",
       "Maryland            7\n",
       "Massachusetts      10\n",
       "Michigan            5\n",
       "Minnesota           5\n",
       "Mississippi         2\n",
       "Missouri            7\n",
       "Montana             1\n",
       "Nebraska            4\n",
       "Nevada              8\n",
       "New Hampshire       1\n",
       "New Jersey         13\n",
       "New Mexico          4\n",
       "New York           24\n",
       "North Carolina     14\n",
       "North Dakota        1\n",
       "Ohio               14\n",
       "Oklahoma            2\n",
       "Oregon             11\n",
       "Other              22\n",
       "Pennysylvania      13\n",
       "Rhode Island        1\n",
       "South Carolina      3\n",
       "Tennessee           6\n",
       "Texas              30\n",
       "Utah                3\n",
       "Virginia           13\n",
       "Washington         25\n",
       "West Virginia       1\n",
       "Wisconsin           1\n",
       "Wyoming             8\n",
       "Name: Rating, dtype: int64"
      ]
     },
     "execution_count": 125,
     "metadata": {},
     "output_type": "execute_result"
    }
   ],
   "source": [
    "starbucks.groupby([\"State\"])[\"Rating\"].count()"
   ]
  },
  {
   "cell_type": "markdown",
   "id": "ac8d1e35",
   "metadata": {},
   "source": [
    "Since the number of states do not reach the target value, the states will be grouped by regions: Northeast, Midwest, South & West "
   ]
  },
  {
   "cell_type": "code",
   "execution_count": 158,
   "id": "b29db326",
   "metadata": {},
   "outputs": [],
   "source": [
    "region = []\n",
    "\n",
    "regionone = ['Conencticut', 'Maine', 'Massachusetts', 'New Hampshire', 'Rhode Island', 'Vermont', 'New Jersey', 'New York', 'Pennysylvania']\n",
    "regiontwo = ['Illinois','Indiana', 'Michigan','Ohio','Wisconsin','Iowa','Kansas','Minnesota','Nebraska','North Dakota','South Dakota']\n",
    "regionthree = ['Delaware','Florida','Georgia','Maryland','North Carolina','South Carolina','Virginia','Washington','West Virginia','Alabama','Kentucky','Mississippi','Tennessee','Arkansas','Louisiana','Oklahoma','Texas']\n",
    "regionfour = ['Arizona','Colorado','Idaho','Montana','Nevada','New Mexico','Utah','Wyoming','Alaska','California','Hawaii','Oregon','Washington']\n",
    "\n",
    "for each in starbucks['State']: \n",
    "    if (each in regionone)==True: \n",
    "        new = 'Northeast'\n",
    "    elif (each in regiontwo) == True: \n",
    "        new = 'Midwest'\n",
    "    elif (each in regionthree) == True: \n",
    "        new = 'South'\n",
    "    elif (each in regionfour) == True:\n",
    "        new = 'West'\n",
    "    region.append(new)"
   ]
  },
  {
   "cell_type": "code",
   "execution_count": 160,
   "id": "1b0060aa",
   "metadata": {},
   "outputs": [],
   "source": [
    "starbucks['Region'] = region"
   ]
  },
  {
   "cell_type": "code",
   "execution_count": 161,
   "id": "51997e5c",
   "metadata": {},
   "outputs": [
    {
     "data": {
      "text/html": [
       "<div>\n",
       "<style scoped>\n",
       "    .dataframe tbody tr th:only-of-type {\n",
       "        vertical-align: middle;\n",
       "    }\n",
       "\n",
       "    .dataframe tbody tr th {\n",
       "        vertical-align: top;\n",
       "    }\n",
       "\n",
       "    .dataframe thead th {\n",
       "        text-align: right;\n",
       "    }\n",
       "</style>\n",
       "<table border=\"1\" class=\"dataframe\">\n",
       "  <thead>\n",
       "    <tr style=\"text-align: right;\">\n",
       "      <th></th>\n",
       "      <th>name</th>\n",
       "      <th>location</th>\n",
       "      <th>Date</th>\n",
       "      <th>Rating</th>\n",
       "      <th>Review</th>\n",
       "      <th>State</th>\n",
       "      <th>PredictedGender</th>\n",
       "      <th>Year</th>\n",
       "      <th>Region</th>\n",
       "    </tr>\n",
       "  </thead>\n",
       "  <tbody>\n",
       "    <tr>\n",
       "      <th>0</th>\n",
       "      <td>Helen</td>\n",
       "      <td>Wichita Falls, TX</td>\n",
       "      <td>Reviewed Sept. 13, 2023</td>\n",
       "      <td>5.0</td>\n",
       "      <td>Amber and LaDonna at the Starbucks on Southwes...</td>\n",
       "      <td>Texas</td>\n",
       "      <td>female</td>\n",
       "      <td>2023</td>\n",
       "      <td>South</td>\n",
       "    </tr>\n",
       "    <tr>\n",
       "      <th>1</th>\n",
       "      <td>Courtney</td>\n",
       "      <td>Apopka, FL</td>\n",
       "      <td>Reviewed July 16, 2023</td>\n",
       "      <td>5.0</td>\n",
       "      <td>** at the Starbucks by the fire station on 436...</td>\n",
       "      <td>Florida</td>\n",
       "      <td>female</td>\n",
       "      <td>2023</td>\n",
       "      <td>South</td>\n",
       "    </tr>\n",
       "    <tr>\n",
       "      <th>3</th>\n",
       "      <td>Taylor</td>\n",
       "      <td>Seattle, WA</td>\n",
       "      <td>Reviewed May 26, 2023</td>\n",
       "      <td>5.0</td>\n",
       "      <td>Me and my friend were at Starbucks and my card...</td>\n",
       "      <td>Washington</td>\n",
       "      <td>male</td>\n",
       "      <td>2023</td>\n",
       "      <td>South</td>\n",
       "    </tr>\n",
       "    <tr>\n",
       "      <th>5</th>\n",
       "      <td>Alyssa</td>\n",
       "      <td>Sunnyvale, TX</td>\n",
       "      <td>Reviewed Sept. 14, 2023</td>\n",
       "      <td>1.0</td>\n",
       "      <td>We had to correct them on our order 3 times. T...</td>\n",
       "      <td>Texas</td>\n",
       "      <td>female</td>\n",
       "      <td>2023</td>\n",
       "      <td>South</td>\n",
       "    </tr>\n",
       "    <tr>\n",
       "      <th>7</th>\n",
       "      <td>Nikki</td>\n",
       "      <td>Asheville, NC</td>\n",
       "      <td>Reviewed Aug. 25, 2023</td>\n",
       "      <td>1.0</td>\n",
       "      <td>Starbucks near me just launched new fall foods...</td>\n",
       "      <td>North Carolina</td>\n",
       "      <td>female</td>\n",
       "      <td>2023</td>\n",
       "      <td>South</td>\n",
       "    </tr>\n",
       "    <tr>\n",
       "      <th>...</th>\n",
       "      <td>...</td>\n",
       "      <td>...</td>\n",
       "      <td>...</td>\n",
       "      <td>...</td>\n",
       "      <td>...</td>\n",
       "      <td>...</td>\n",
       "      <td>...</td>\n",
       "      <td>...</td>\n",
       "      <td>...</td>\n",
       "    </tr>\n",
       "    <tr>\n",
       "      <th>699</th>\n",
       "      <td>Susie</td>\n",
       "      <td>Mayer, AZ</td>\n",
       "      <td>Reviewed Oct. 4, 2011</td>\n",
       "      <td>1.0</td>\n",
       "      <td>I have never been so rudely spoken to in such ...</td>\n",
       "      <td>Arizona</td>\n",
       "      <td>female</td>\n",
       "      <td>2011</td>\n",
       "      <td>West</td>\n",
       "    </tr>\n",
       "    <tr>\n",
       "      <th>700</th>\n",
       "      <td>Margaret</td>\n",
       "      <td>Cotati, CA</td>\n",
       "      <td>Reviewed Oct. 2, 2011</td>\n",
       "      <td>1.0</td>\n",
       "      <td>I ordered Via Starbucks coffee online. I recei...</td>\n",
       "      <td>California</td>\n",
       "      <td>female</td>\n",
       "      <td>2011</td>\n",
       "      <td>West</td>\n",
       "    </tr>\n",
       "    <tr>\n",
       "      <th>702</th>\n",
       "      <td>Jayne</td>\n",
       "      <td>Ny, NY</td>\n",
       "      <td>Reviewed Aug. 24, 2011</td>\n",
       "      <td>1.0</td>\n",
       "      <td>The bagel was ice cold, not cut and not toasted.</td>\n",
       "      <td>New York</td>\n",
       "      <td>female</td>\n",
       "      <td>2011</td>\n",
       "      <td>Northeast</td>\n",
       "    </tr>\n",
       "    <tr>\n",
       "      <th>703</th>\n",
       "      <td>Norma</td>\n",
       "      <td>La Puente, CA</td>\n",
       "      <td>Reviewed Aug. 15, 2011</td>\n",
       "      <td>1.0</td>\n",
       "      <td>In the morning of Monday, August 15, 2011, at ...</td>\n",
       "      <td>California</td>\n",
       "      <td>female</td>\n",
       "      <td>2011</td>\n",
       "      <td>West</td>\n",
       "    </tr>\n",
       "    <tr>\n",
       "      <th>749</th>\n",
       "      <td>Kenneth</td>\n",
       "      <td>Beecher, IL</td>\n",
       "      <td>Reviewed Feb. 6, 2010</td>\n",
       "      <td>5.0</td>\n",
       "      <td>I found the coffee at Starbucks overrated and ...</td>\n",
       "      <td>Illinois</td>\n",
       "      <td>male</td>\n",
       "      <td>2010</td>\n",
       "      <td>Midwest</td>\n",
       "    </tr>\n",
       "  </tbody>\n",
       "</table>\n",
       "<p>496 rows × 9 columns</p>\n",
       "</div>"
      ],
      "text/plain": [
       "         name           location                     Date  Rating  \\\n",
       "0       Helen  Wichita Falls, TX  Reviewed Sept. 13, 2023     5.0   \n",
       "1    Courtney         Apopka, FL   Reviewed July 16, 2023     5.0   \n",
       "3      Taylor        Seattle, WA    Reviewed May 26, 2023     5.0   \n",
       "5      Alyssa      Sunnyvale, TX  Reviewed Sept. 14, 2023     1.0   \n",
       "7       Nikki      Asheville, NC   Reviewed Aug. 25, 2023     1.0   \n",
       "..        ...                ...                      ...     ...   \n",
       "699     Susie          Mayer, AZ    Reviewed Oct. 4, 2011     1.0   \n",
       "700  Margaret         Cotati, CA    Reviewed Oct. 2, 2011     1.0   \n",
       "702     Jayne             Ny, NY   Reviewed Aug. 24, 2011     1.0   \n",
       "703     Norma      La Puente, CA   Reviewed Aug. 15, 2011     1.0   \n",
       "749   Kenneth        Beecher, IL    Reviewed Feb. 6, 2010     5.0   \n",
       "\n",
       "                                                Review           State  \\\n",
       "0    Amber and LaDonna at the Starbucks on Southwes...           Texas   \n",
       "1    ** at the Starbucks by the fire station on 436...         Florida   \n",
       "3    Me and my friend were at Starbucks and my card...      Washington   \n",
       "5    We had to correct them on our order 3 times. T...           Texas   \n",
       "7    Starbucks near me just launched new fall foods...  North Carolina   \n",
       "..                                                 ...             ...   \n",
       "699  I have never been so rudely spoken to in such ...         Arizona   \n",
       "700  I ordered Via Starbucks coffee online. I recei...      California   \n",
       "702   The bagel was ice cold, not cut and not toasted.        New York   \n",
       "703  In the morning of Monday, August 15, 2011, at ...      California   \n",
       "749  I found the coffee at Starbucks overrated and ...        Illinois   \n",
       "\n",
       "    PredictedGender  Year     Region  \n",
       "0            female  2023      South  \n",
       "1            female  2023      South  \n",
       "3              male  2023      South  \n",
       "5            female  2023      South  \n",
       "7            female  2023      South  \n",
       "..              ...   ...        ...  \n",
       "699          female  2011       West  \n",
       "700          female  2011       West  \n",
       "702          female  2011  Northeast  \n",
       "703          female  2011       West  \n",
       "749            male  2010    Midwest  \n",
       "\n",
       "[496 rows x 9 columns]"
      ]
     },
     "execution_count": 161,
     "metadata": {},
     "output_type": "execute_result"
    }
   ],
   "source": [
    "starbucks"
   ]
  },
  {
   "cell_type": "markdown",
   "id": "9dd0b879",
   "metadata": {},
   "source": [
    "# Data Gathering (General Information) "
   ]
  },
  {
   "cell_type": "code",
   "execution_count": 190,
   "id": "a7dd0afb",
   "metadata": {},
   "outputs": [
    {
     "data": {
      "text/plain": [
       "female    306\n",
       "male      190\n",
       "Name: PredictedGender, dtype: int64"
      ]
     },
     "execution_count": 190,
     "metadata": {},
     "output_type": "execute_result"
    }
   ],
   "source": [
    "#Males to Females\n",
    "\n",
    "starbucks['PredictedGender'].value_counts()"
   ]
  },
  {
   "cell_type": "code",
   "execution_count": 202,
   "id": "89fa7eaa",
   "metadata": {},
   "outputs": [
    {
     "data": {
      "text/plain": [
       "PredictedGender  Rating\n",
       "female           1.0       186\n",
       "                 2.0        45\n",
       "                 3.0        19\n",
       "                 4.0        21\n",
       "                 5.0        35\n",
       "male             1.0       135\n",
       "                 2.0        25\n",
       "                 3.0         8\n",
       "                 4.0         5\n",
       "                 5.0        17\n",
       "Name: Rating, dtype: int64"
      ]
     },
     "execution_count": 202,
     "metadata": {},
     "output_type": "execute_result"
    }
   ],
   "source": [
    "#Number of Ratings per Gender \n",
    "\n",
    "starbucks.groupby(['PredictedGender','Rating'])['Rating'].count()"
   ]
  },
  {
   "cell_type": "code",
   "execution_count": 207,
   "id": "4e5a2196",
   "metadata": {},
   "outputs": [
    {
     "data": {
      "text/plain": [
       "PredictedGender\n",
       "female    1.934641\n",
       "male      1.652632\n",
       "Name: Rating, dtype: float64"
      ]
     },
     "execution_count": 207,
     "metadata": {},
     "output_type": "execute_result"
    }
   ],
   "source": [
    "#Mean rating per gender \n",
    "\n",
    "starbucks.groupby(['PredictedGender'])['Rating'].mean()"
   ]
  },
  {
   "cell_type": "code",
   "execution_count": 192,
   "id": "df8993c9",
   "metadata": {},
   "outputs": [
    {
     "data": {
      "text/plain": [
       "West         195\n",
       "South        174\n",
       "Northeast     69\n",
       "Midwest       58\n",
       "Name: Region, dtype: int64"
      ]
     },
     "execution_count": 192,
     "metadata": {},
     "output_type": "execute_result"
    }
   ],
   "source": [
    "#Number of Ratings per Regions \n",
    "\n",
    "starbucks['Region'].value_counts()"
   ]
  },
  {
   "cell_type": "code",
   "execution_count": 211,
   "id": "68152bd8",
   "metadata": {},
   "outputs": [
    {
     "data": {
      "text/plain": [
       "Region     PredictedGender\n",
       "Midwest    female              39\n",
       "           male                19\n",
       "Northeast  female              48\n",
       "           male                21\n",
       "South      female             104\n",
       "           male                70\n",
       "West       female             115\n",
       "           male                80\n",
       "Name: Rating, dtype: int64"
      ]
     },
     "execution_count": 211,
     "metadata": {},
     "output_type": "execute_result"
    }
   ],
   "source": [
    "#Number of Ratings per Region by Gender\n",
    "\n",
    "starbucks.groupby(['Region','PredictedGender'])['Rating'].count()"
   ]
  },
  {
   "cell_type": "code",
   "execution_count": 199,
   "id": "27eaf3ff",
   "metadata": {},
   "outputs": [
    {
     "data": {
      "text/plain": [
       "Region     Rating\n",
       "Midwest    1.0        33\n",
       "           2.0         9\n",
       "           3.0         4\n",
       "           4.0         4\n",
       "           5.0         8\n",
       "Northeast  1.0        49\n",
       "           2.0         6\n",
       "           3.0         2\n",
       "           4.0         6\n",
       "           5.0         6\n",
       "South      1.0       119\n",
       "           2.0        25\n",
       "           3.0         5\n",
       "           4.0         5\n",
       "           5.0        20\n",
       "West       1.0       120\n",
       "           2.0        30\n",
       "           3.0        16\n",
       "           4.0        11\n",
       "           5.0        18\n",
       "Name: Rating, dtype: int64"
      ]
     },
     "execution_count": 199,
     "metadata": {},
     "output_type": "execute_result"
    }
   ],
   "source": [
    "#Distribution of Ratings per Region \n",
    "\n",
    "starbucks.groupby(['Region','Rating'])['Rating'].count()"
   ]
  },
  {
   "cell_type": "code",
   "execution_count": 208,
   "id": "3e3af711",
   "metadata": {},
   "outputs": [
    {
     "data": {
      "text/plain": [
       "Region\n",
       "Midwest      2.051724\n",
       "Northeast    1.753623\n",
       "South        1.747126\n",
       "West         1.856410\n",
       "Name: Rating, dtype: float64"
      ]
     },
     "execution_count": 208,
     "metadata": {},
     "output_type": "execute_result"
    }
   ],
   "source": [
    "starbucks.groupby(['Region'])['Rating'].mean()"
   ]
  },
  {
   "cell_type": "code",
   "execution_count": 203,
   "id": "3ed39247",
   "metadata": {},
   "outputs": [
    {
     "data": {
      "text/plain": [
       "Year\n",
       "2010     1\n",
       "2011    17\n",
       "2012    35\n",
       "2013    20\n",
       "2014    43\n",
       "2015    60\n",
       "2016    42\n",
       "2017    93\n",
       "2018    37\n",
       "2019    35\n",
       "2020    23\n",
       "2021    21\n",
       "2022    43\n",
       "2023    26\n",
       "Name: Rating, dtype: int64"
      ]
     },
     "execution_count": 203,
     "metadata": {},
     "output_type": "execute_result"
    }
   ],
   "source": [
    "starbucks.groupby(['Year'])[\"Rating\"].count()"
   ]
  },
  {
   "cell_type": "code",
   "execution_count": 209,
   "id": "c9275692",
   "metadata": {},
   "outputs": [
    {
     "data": {
      "text/plain": [
       "Year\n",
       "2010    5.000000\n",
       "2011    1.058824\n",
       "2012    1.628571\n",
       "2013    1.300000\n",
       "2014    1.372093\n",
       "2015    1.450000\n",
       "2016    1.571429\n",
       "2017    2.967742\n",
       "2018    2.135135\n",
       "2019    1.571429\n",
       "2020    1.782609\n",
       "2021    1.047619\n",
       "2022    1.720930\n",
       "2023    1.576923\n",
       "Name: Rating, dtype: float64"
      ]
     },
     "execution_count": 209,
     "metadata": {},
     "output_type": "execute_result"
    }
   ],
   "source": [
    "starbucks.groupby(['Year'])['Rating'].mean()"
   ]
  },
  {
   "cell_type": "markdown",
   "id": "2db16d44",
   "metadata": {},
   "source": [
    "# Data Imaging "
   ]
  },
  {
   "cell_type": "markdown",
   "id": "e50d05c5",
   "metadata": {},
   "source": [
    "Analyzing differences between regions"
   ]
  },
  {
   "cell_type": "code",
   "execution_count": 265,
   "id": "4493d9d0",
   "metadata": {},
   "outputs": [],
   "source": [
    "xvalues = [1,2,3,4,5]\n",
    "RegionOne = starbucks[starbucks['Region'] == 'Northeast']\n",
    "RegionTwo = starbucks[starbucks['Region'] == 'Midwest']\n",
    "RegionThree = starbucks[starbucks['Region'] == 'South']\n",
    "RegionFour  = starbucks[starbucks['Region'] == 'West']"
   ]
  },
  {
   "cell_type": "code",
   "execution_count": 314,
   "id": "e6b7c9a4",
   "metadata": {},
   "outputs": [
    {
     "data": {
      "text/plain": [
       "<matplotlib.legend.Legend at 0x21314283550>"
      ]
     },
     "execution_count": 314,
     "metadata": {},
     "output_type": "execute_result"
    },
    {
     "data": {
      "image/png": "[encoded data removed]",
      "text/plain": [
       "<Figure size 1500x800 with 1 Axes>"
      ]
     },
     "metadata": {},
     "output_type": "display_data"
    }
   ],
   "source": [
    "bar_width = 0.25\n",
    "\n",
    "indices = np.arange(len(xvalues))\n",
    "\n",
    "plt.figure(figsize=(15,8))\n",
    "plt.bar(indices - 0.50, RegionOne['Rating'].value_counts(), bar_width, label='Region 1: Northeast', color='red', alpha=0.7)\n",
    "plt.bar(indices - 0.25, RegionTwo['Rating'].value_counts(), bar_width, label='Region 2: Midwest ', color='orange', alpha=0.7)\n",
    "plt.bar(indices, RegionThree['Rating'].value_counts(), bar_width, label='Region 3: South', color='yellow', alpha=0.7)\n",
    "plt.bar(indices + 0.25, RegionFour['Rating'].value_counts(), bar_width, label='Region 4: West', color='green', alpha=0.7)\n",
    "\n",
    "plt.legend()"
   ]
  },
  {
   "cell_type": "markdown",
   "id": "2cc58449",
   "metadata": {},
   "source": [
    "Analyzing between Gender per Region"
   ]
  },
  {
   "cell_type": "code",
   "execution_count": 389,
   "id": "4b329196",
   "metadata": {},
   "outputs": [],
   "source": [
    "def get_table_and_ttest(group_1, group_2):\n",
    "    \n",
    "    print('Male', group_1['Rating'].mean())\n",
    "    print('Female', group_2['Rating'].mean())\n",
    "    \n",
    "    plt.figure(figsize=(15,8))\n",
    "    bar_width = 0.25\n",
    "    ind = np.arange(len(xvalues))\n",
    "\n",
    "    Mcomplete = {xvalue: group_1['Rating'].value_counts().get(xvalue, 0) for xvalue in xvalues}\n",
    "    Fcomplete = {xvalue: group_2['Rating'].value_counts().get(xvalue, 0) for xvalue in xvalues}\n",
    "    \n",
    "    plt.bar(np.array(list(Mcomplete.keys())) - 0.15, Mcomplete.values(), bar_width, label='Male', color='Blue', alpha=0.7)\n",
    "    plt.bar(np.array(list(Fcomplete.keys())) + 0.10 , Fcomplete.values(), bar_width, label='Female', color='Pink', alpha=0.7)\n",
    "    \n",
    "    plt.legend()"
   ]
  },
  {
   "cell_type": "code",
   "execution_count": 335,
   "id": "13dee237",
   "metadata": {},
   "outputs": [],
   "source": [
    "male = starbucks[starbucks['PredictedGender'] == 'male']\n",
    "female = starbucks[starbucks['PredictedGender'] == 'female']"
   ]
  },
  {
   "cell_type": "code",
   "execution_count": 336,
   "id": "3fea9017",
   "metadata": {},
   "outputs": [],
   "source": [
    "MRegionOne = male[male['Region'] == 'Northeast']\n",
    "MRegionTwo = male[male['Region'] == 'Midwest']\n",
    "MRegionThree = male[male['Region'] == 'South']\n",
    "MRegionFour = male[male['Region'] == 'West']\n",
    "FRegionOne = female[female['Region'] == 'Northeast']\n",
    "FRegionTwo = female[female['Region'] == 'Midwest']\n",
    "FRegionThree = female[female['Region'] == 'South']\n",
    "FRegionFour = female[female['Region'] == 'West']"
   ]
  },
  {
   "cell_type": "code",
   "execution_count": 348,
   "id": "69b29330",
   "metadata": {},
   "outputs": [
    {
     "data": {
      "text/plain": [
       "Region     Rating\n",
       "Northeast  1.0       31\n",
       "           4.0        6\n",
       "           5.0        5\n",
       "           2.0        4\n",
       "           3.0        2\n",
       "Name: Rating, dtype: int64"
      ]
     },
     "execution_count": 348,
     "metadata": {},
     "output_type": "execute_result"
    }
   ],
   "source": [
    "FRegionOne.groupby(['Region'])['Rating'].value_counts()"
   ]
  },
  {
   "cell_type": "code",
   "execution_count": 390,
   "id": "1a50ce2d",
   "metadata": {},
   "outputs": [
    {
     "name": "stdout",
     "output_type": "stream",
     "text": [
      "Male 1.2857142857142858\n",
      "Female 1.9583333333333333\n"
     ]
    },
    {
     "data": {
      "image/png": "[encoded data removed]",
      "text/plain": [
       "<Figure size 1500x800 with 1 Axes>"
      ]
     },
     "metadata": {},
     "output_type": "display_data"
    }
   ],
   "source": [
    "get_table_and_ttest(MRegionOne,FRegionOne)"
   ]
  },
  {
   "cell_type": "code",
   "execution_count": 391,
   "id": "a0fec3ed",
   "metadata": {},
   "outputs": [
    {
     "name": "stdout",
     "output_type": "stream",
     "text": [
      "Male 1.894736842105263\n",
      "Female 2.128205128205128\n"
     ]
    },
    {
     "data": {
      "image/png": "[encoded data removed]",
      "text/plain": [
       "<Figure size 1500x800 with 1 Axes>"
      ]
     },
     "metadata": {},
     "output_type": "display_data"
    }
   ],
   "source": [
    "get_table_and_ttest(MRegionTwo,FRegionTwo)"
   ]
  },
  {
   "cell_type": "code",
   "execution_count": 393,
   "id": "f6509b7b",
   "metadata": {},
   "outputs": [
    {
     "name": "stdout",
     "output_type": "stream",
     "text": [
      "Male 1.6142857142857143\n",
      "Female 1.8365384615384615\n"
     ]
    },
    {
     "data": {
      "image/png": "[encoded data removed]",
      "text/plain": [
       "<Figure size 1500x800 with 1 Axes>"
      ]
     },
     "metadata": {},
     "output_type": "display_data"
    }
   ],
   "source": [
    "get_table_and_ttest(MRegionThree,FRegionThree)"
   ]
  },
  {
   "cell_type": "code",
   "execution_count": 392,
   "id": "f2ac535d",
   "metadata": {},
   "outputs": [
    {
     "name": "stdout",
     "output_type": "stream",
     "text": [
      "Male 1.725\n",
      "Female 1.9478260869565218\n"
     ]
    },
    {
     "data": {
      "image/png": "[encoded data removed]",
      "text/plain": [
       "<Figure size 1500x800 with 1 Axes>"
      ]
     },
     "metadata": {},
     "output_type": "display_data"
    }
   ],
   "source": [
    "get_table_and_ttest(MRegionFour,FRegionFour)"
   ]
  },
  {
   "cell_type": "markdown",
   "id": "6a7c85f2",
   "metadata": {},
   "source": [
    "Mapping the Mean Rating over the Years"
   ]
  },
  {
   "cell_type": "code",
   "execution_count": 400,
   "id": "d7542c86",
   "metadata": {},
   "outputs": [
    {
     "data": {
      "text/plain": [
       "<BarContainer object of 14 artists>"
      ]
     },
     "execution_count": 400,
     "metadata": {},
     "output_type": "execute_result"
    },
    {
     "data": {
      "image/png": "[encoded data removed]",
      "text/plain": [
       "<Figure size 640x480 with 1 Axes>"
      ]
     },
     "metadata": {},
     "output_type": "display_data"
    }
   ],
   "source": [
    "years = [2010, 2011, 2012, 2013, 2014, 2015, 2016, 2017, 2018, 2019, 2020, 2021, 2022, 2023]\n",
    "plt.bar(years, starbucks.groupby(['Year'])['Rating'].mean(), bar_width, label='Mean', color='Green', alpha=0.7)\n"
   ]
  }
 ],
 "metadata": {
  "kernelspec": {
   "display_name": "Python 3 (ipykernel)",
   "language": "python",
   "name": "python3"
  },
  "language_info": {
   "codemirror_mode": {
    "name": "ipython",
    "version": 3
   },
   "file_extension": ".py",
   "mimetype": "text/x-python",
   "name": "python",
   "nbconvert_exporter": "python",
   "pygments_lexer": "ipython3",
   "version": "3.11.4"
  }
 },
 "nbformat": 4,
 "nbformat_minor": 5
}
